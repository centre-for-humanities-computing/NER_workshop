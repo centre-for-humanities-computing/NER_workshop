{
 "cells": [
  {
   "cell_type": "markdown",
   "metadata": {
    "colab_type": "text",
    "id": "CHp95T56HrDc"
   },
   "source": [
    "# NLP workshop demo\n",
    "\n"
   ]
  },
  {
   "cell_type": "markdown",
   "metadata": {
    "colab_type": "text",
    "id": "R3bZUnNmTVhs"
   },
   "source": [
    "## Hello!\n",
    "\n",
    "In this notebook, we provide an introductory overview of named entity extraction on unstructured textual data using a contemporary NLP pipeline. We are primarily interested in the study of literary texts, but the overall pipeline should be applicable to a wide range of texts. And while our examples are in English, there a good-quality models available for other languages, too."
   ]
  },
  {
   "cell_type": "markdown",
   "metadata": {
    "colab_type": "text",
    "id": "Dq5Q9AVzxeN0"
   },
   "source": [
    "# Intro to `spaCy`\n",
    "\n",
    "In the field of NLP, there are a number of competing frameworks such as NLTK, Stanford's CoreNLP, and UDPipe - to name only a few well-known examples.\n",
    "\n",
    "In order to quickly sidestep a discussion of the relative merits of each of these frameworks, we'll be working with the NLP package known as [<i>spaCy</i>](https://spacy.io/), which bills itself as 'industrial strength natural language processing'. It uses deep learning, provides a range of pretrained models, and scales well.\n",
    "\n",
    "To begin, we import spaCy and load the English language model, both of which should be in place on the Colab system. If you're installing on your own machine, see [SpaCy's installation instructions](https://spacy.io/usage#_title).\n",
    "\n",
    "(Press Shift+Enter to run cells and work through the notebook!)\n"
   ]
  },
  {
   "cell_type": "code",
   "execution_count": 0,
   "metadata": {
    "colab": {},
    "colab_type": "code",
    "id": "8S7rjer016IE"
   },
   "outputs": [],
   "source": [
    "import spacy\n",
    "import en_core_web_sm\n",
    "nlp = spacy.load(\"en_core_web_sm\")"
   ]
  },
  {
   "cell_type": "markdown",
   "metadata": {
    "colab_type": "text",
    "id": "9dj9vAzTJ3oU"
   },
   "source": [
    "With the model now loaded, we can begin to do some very simple NLP tasks. \n",
    "\n",
    "Here, we create a spaCy object and assign it to the variable `nlp`. This is the NLP pipeline that will do all our heavy lifting, using the trained model we've specified. \n",
    "\n",
    "Below, you can see what the pipeline does with a bit of sample text. Passing text to the `nlp` object gives us access to a bunch of properties, including tokens (words), parts of speech, named entities, and so on. Here's we two of them, <i>tokens</i> and <i>entities</i>. These objects, in turn, have certain methods attached to them. A full outline of available methods can be found in the [spaCy docs](https://spacy.io/usage/linguistic-features).\n",
    "\n",
    "In this case, for all token objects, let's return the token itself (`token.text`); its part-of-speech tag (`token.pos_`); and the grammatical dependency relations between the tokens (`token.dep_`)."
   ]
  },
  {
   "cell_type": "code",
   "execution_count": 0,
   "metadata": {
    "colab": {
     "base_uri": "https://localhost:8080/",
     "height": 204
    },
    "colab_type": "code",
    "id": "gltE67McJdda",
    "outputId": "080a7058-69da-4c27-c9e2-ee162482c37d"
   },
   "outputs": [
    {
     "name": "stdout",
     "output_type": "stream",
     "text": [
      "Apple PROPN nsubj\n",
      "is VERB aux\n",
      "looking VERB ROOT\n",
      "at ADP prep\n",
      "buying VERB pcomp\n",
      "U.K. PROPN compound\n",
      "startup NOUN dobj\n",
      "for ADP prep\n",
      "$ SYM quantmod\n",
      "1 NUM compound\n",
      "billion NUM pobj\n"
     ]
    }
   ],
   "source": [
    "doc = nlp(\"Apple is looking at buying U.K. startup for $1 billion\")\n",
    "for token in doc:\n",
    "    print(token.text, token.pos_, token.dep_)"
   ]
  },
  {
   "cell_type": "markdown",
   "metadata": {
    "colab_type": "text",
    "id": "7doWzc4IK_6K"
   },
   "source": [
    "We can inspect named entities in a similar manner. \n",
    "\n",
    "For each entity, we can see the entity itself (`entity.text`) and the type of entity it is (`entity.label_`)."
   ]
  },
  {
   "cell_type": "code",
   "execution_count": 0,
   "metadata": {
    "colab": {
     "base_uri": "https://localhost:8080/",
     "height": 68
    },
    "colab_type": "code",
    "id": "-V83ch2FK-0Z",
    "outputId": "cada488c-1b06-4841-aa6a-0c160d8202bd"
   },
   "outputs": [
    {
     "name": "stdout",
     "output_type": "stream",
     "text": [
      "Apple ORG\n",
      "U.K. GPE\n",
      "$1 billion MONEY\n"
     ]
    }
   ],
   "source": [
    "for entity in doc.ents:\n",
    "    print(entity.text, entity.label_)"
   ]
  },
  {
   "cell_type": "markdown",
   "metadata": {
    "colab_type": "text",
    "id": "neYQzvvQLtyX"
   },
   "source": [
    "spaCy has returned three entites in this case - an Organisation (ORG); a geopolitical entity (GPE); and a term describing a quantity of money (MONEY)."
   ]
  },
  {
   "cell_type": "markdown",
   "metadata": {
    "colab_type": "text",
    "id": "WXKO5BytJm04"
   },
   "source": [
    "## The corpus\n",
    "\n",
    "For this workshop, we'll be working with a pre-defined corpus of literary texts which can be found on the workshop's Github repo. \n",
    "\n",
    "You'll notice that the filenames of these novels feature regular descriptive patterns and contain metadata related to the novels. The pattern is as follows:\n",
    "\n",
    "<i>Nationality-Author-Novel-Year-Gender.txt</i>\n",
    "\n",
    "This means that we can easily read the filename `'B-Bronte_E-Wuthering_Heights-1847-F.txt'` as being the 1847 novel <i>Wuthering Heights</i> by the British, female author Emily Brontë.\n",
    "\n",
    "### **NB!**\n",
    "While spaCy often comes top of the pack relative to other NLP frameworks in terms of speed, tagging long texts is still a computationally expensive task. With that in mind, we're going to work with smaller chunks of the full length novels (a 10% sample extracted from the middle of each novel; note that the texts are thus not of equal length). For those of you interested in tagging full texts in your own time, you can find the complete novels on [Github](https://github.com/centre-for-humanities-computing/NER_workshop/tree/master/texts_full)."
   ]
  },
  {
   "cell_type": "code",
   "execution_count": 0,
   "metadata": {
    "colab": {},
    "colab_type": "code",
    "id": "hjYYp-MD8xrM"
   },
   "outputs": [],
   "source": [
    "import requests\n",
    "\n",
    "base_url = 'https://raw.githubusercontent.com/centre-for-humanities-computing/NER_workshop/master/texts_short/'\n",
    "filenames = [\n",
    "  'A-Alcott-Little_Women-1868-F.txt',\n",
    "  'A-Cather-Antonia-1918-F.txt',\n",
    "  'A-Chesnutt-Marrow-1901-M.txt',\n",
    "  'A-Chopin-Awakening-1899-F.txt',\n",
    "  'A-Crane-Maggie-1893-M.txt',\n",
    "  'A-Davis-Life_Iron_Mills-1861-F.txt',\n",
    "  'A-Dreiser-Sister_Carrie-1900-M.txt',\n",
    "  'A-Freeman-Pembroke-1894-F.txt',\n",
    "  'A-Gilman-Herland-1915-F.txt',\n",
    "  'A-Harper-Iola_Leroy-1892-F.txt',\n",
    "  'A-Hawthorne-Scarlet_Letter-1850-M.txt',\n",
    "  'A-Howells-Silas_Lapham-1885-M.txt',\n",
    "  'A-James-Golden_Bowl-1904-M.txt',\n",
    "  'A-Jewett-Pointed_Firs-1896-F.txt',\n",
    "  'A-London-Call_Wild-1903-M.txt',\n",
    "  'A-Melville-Moby_Dick-1851-M.txt',\n",
    "  'A-Norris-Pit-1903-M.txt',\n",
    "  'A-Stowe-Uncle_Tom-1852-F.txt',\n",
    "  'A-Twain-Huck_Finn-1885-M.txt',\n",
    "  'A-Wharton-Age_Innocence-1920-F.txt',\n",
    "  'B-Austen-Pride_Prejudice-1813-F.txt',\n",
    "  'B-Bronte_C-Jane_Eyre-1847-F.txt',\n",
    "  'B-Bronte_E-Wuthering_Heights-1847-F.txt',\n",
    "  'B-Burney-Evelina-1778-F.txt',\n",
    "  'B-Conrad-Heart_Darkness-1902-M.txt',\n",
    "  'B-Dickens-Bleak_House-1853-M.txt',\n",
    "  'B-Disraeli-Sybil-1845-M.txt',\n",
    "  'B-Eliot-Middlemarch-1869-F.txt',\n",
    "  'B-Forster-Room_View-1908-M.txt',\n",
    "  'B-Gaskell-North_South-1855-F.txt',\n",
    "  'B-Gissing-Grub_Street-1893-M.txt',\n",
    "  'B-Hardy-Tess-1891-M.txt',\n",
    "  'B-Mitford-Our_Village-1826-F.txt',\n",
    "  'B-Radcliffe-Mysteries_Udolpho-1794-F.txt',\n",
    "  'B-Shelley-Frankenstein-1818-F.txt',\n",
    "  'B-Stevenson-Treasure_Island-1883-M.txt',\n",
    "  'B-Thackeray-Vanity_Fair-1848-M.txt',\n",
    "  'B-Trollope-Live_Now-1875-M.txt',\n",
    "  'B-Wells-Time_Machine-1895-M.txt',\n",
    "  'B-Woolf-Mrs_Dalloway-1925-F.txt'\n",
    "]\n",
    "\n",
    "# Use a dictionary to store full texts, keyed to file name\n",
    "texts = {}\n",
    "\n",
    "for f in filenames:\n",
    "  texts[f] = requests.get(base_url+f).text"
   ]
  },
  {
   "cell_type": "markdown",
   "metadata": {
    "colab_type": "text",
    "id": "B3bprsGLyJ6J"
   },
   "source": [
    "## Run `\u001d",
    "spaCy`\u001d",
    " over corpus \n",
    "\n",
    "Now that the corpus has been loaded, we can run each of the novels through the spaCy pipeline.\n",
    "\n",
    "We're interested primarily in locations, which in the spaCy framework correspond to geopolitical entities, that is, those entities tagged `GPE`.\n",
    "\n",
    "For the sampled texts (about 500,000 words in sum), this takes a minute or two."
   ]
  },
  {
   "cell_type": "code",
   "execution_count": 0,
   "metadata": {
    "colab": {
     "base_uri": "https://localhost:8080/",
     "height": 731
    },
    "colab_type": "code",
    "id": "xOelKefi-l8h",
    "outputId": "5b3c4dff-4a86-466b-bc79-f300f1766335"
   },
   "outputs": [
    {
     "name": "stdout",
     "output_type": "stream",
     "text": [
      "A-Alcott-Little_Women-1868-F.txt\n",
      "A-Cather-Antonia-1918-F.txt\n",
      "A-Chesnutt-Marrow-1901-M.txt\n",
      "A-Chopin-Awakening-1899-F.txt\n",
      "A-Crane-Maggie-1893-M.txt\n",
      "A-Davis-Life_Iron_Mills-1861-F.txt\n",
      "A-Dreiser-Sister_Carrie-1900-M.txt\n",
      "A-Freeman-Pembroke-1894-F.txt\n",
      "A-Gilman-Herland-1915-F.txt\n",
      "A-Harper-Iola_Leroy-1892-F.txt\n",
      "A-Hawthorne-Scarlet_Letter-1850-M.txt\n",
      "A-Howells-Silas_Lapham-1885-M.txt\n",
      "A-James-Golden_Bowl-1904-M.txt\n",
      "A-Jewett-Pointed_Firs-1896-F.txt\n",
      "A-London-Call_Wild-1903-M.txt\n",
      "A-Melville-Moby_Dick-1851-M.txt\n",
      "A-Norris-Pit-1903-M.txt\n",
      "A-Stowe-Uncle_Tom-1852-F.txt\n",
      "A-Twain-Huck_Finn-1885-M.txt\n",
      "A-Wharton-Age_Innocence-1920-F.txt\n",
      "B-Austen-Pride_Prejudice-1813-F.txt\n",
      "B-Bronte_C-Jane_Eyre-1847-F.txt\n",
      "B-Bronte_E-Wuthering_Heights-1847-F.txt\n",
      "B-Burney-Evelina-1778-F.txt\n",
      "B-Conrad-Heart_Darkness-1902-M.txt\n",
      "B-Dickens-Bleak_House-1853-M.txt\n",
      "B-Disraeli-Sybil-1845-M.txt\n",
      "B-Eliot-Middlemarch-1869-F.txt\n",
      "B-Forster-Room_View-1908-M.txt\n",
      "B-Gaskell-North_South-1855-F.txt\n",
      "B-Gissing-Grub_Street-1893-M.txt\n",
      "B-Hardy-Tess-1891-M.txt\n",
      "B-Mitford-Our_Village-1826-F.txt\n",
      "B-Radcliffe-Mysteries_Udolpho-1794-F.txt\n",
      "B-Shelley-Frankenstein-1818-F.txt\n",
      "B-Stevenson-Treasure_Island-1883-M.txt\n",
      "B-Thackeray-Vanity_Fair-1848-M.txt\n",
      "B-Trollope-Live_Now-1875-M.txt\n",
      "B-Wells-Time_Machine-1895-M.txt\n",
      "B-Woolf-Mrs_Dalloway-1925-F.txt\n",
      "CPU times: user 1min 40s, sys: 2.84 s, total: 1min 42s\n",
      "Wall time: 1min 43s\n"
     ]
    }
   ],
   "source": [
    "# Run NLP on texts\n",
    "nlp.max_length = 1e+7 # Max doc length in characters\n",
    "\n",
    "from collections import Counter\n",
    "\n",
    "gpe_counts = {} # Dict to hold output entity counts\n",
    "\n",
    "for t in texts:\n",
    "    counts = Counter()               # Entity counts per doc\n",
    "    doc = nlp(texts[t])              # Perform NLP using spaCy\n",
    "    print(t)                         # Inform user of progress\n",
    "    for ent in doc.ents:\n",
    "        if ent.label_ == 'GPE':\n",
    "            counts[ent.text] += 1        # Increment by 1 for every GPE\n",
    "    gpe_counts[t] = counts"
   ]
  },
  {
   "cell_type": "markdown",
   "metadata": {
    "colab_type": "text",
    "id": "tQiaHjy9P5yF"
   },
   "source": [
    "We can then transform the results into a pandas dataframe for easy manipulation and exploration.\n",
    "\n"
   ]
  },
  {
   "cell_type": "code",
   "execution_count": 0,
   "metadata": {
    "colab": {
     "base_uri": "https://localhost:8080/",
     "height": 34
    },
    "colab_type": "code",
    "id": "3t3NOLrKELEv",
    "outputId": "8f5c270f-51ce-4c95-e22d-585bb5cffab2"
   },
   "outputs": [
    {
     "name": "stdout",
     "output_type": "stream",
     "text": [
      "Total unique book-location combinations: 627\n"
     ]
    }
   ],
   "source": [
    "# Examine some output\n",
    "import pandas as pd\n",
    "# Create dataframe from dict\n",
    "locations = pd.DataFrame.from_dict(gpe_counts, orient='index')\n",
    "# Stack df and reset index\n",
    "locations = locations.stack().rename('occurs').astype(int)\n",
    "locations.index.set_names(['text', 'location'], inplace=True)\n",
    "locations = locations.to_frame().reset_index()\n",
    "print(\"Total unique book-location combinations:\", locations.shape[0])"
   ]
  },
  {
   "cell_type": "markdown",
   "metadata": {
    "colab_type": "text",
    "id": "7_TysbOyQcQ0"
   },
   "source": [
    "Run the following cell a couple of times in order to see some random samples of the data. \n",
    "\n",
    "What do you think of the results? Do you notice any issues? Any patterns?"
   ]
  },
  {
   "cell_type": "code",
   "execution_count": 0,
   "metadata": {
    "colab": {
     "base_uri": "https://localhost:8080/",
     "height": 359
    },
    "colab_type": "code",
    "id": "lKkI657UQZV_",
    "outputId": "7bb8c79a-36d9-4e3b-edc9-afaa23566b14"
   },
   "outputs": [
    {
     "data": {
      "text/html": [
       "<div>\n",
       "<style scoped>\n",
       "    .dataframe tbody tr th:only-of-type {\n",
       "        vertical-align: middle;\n",
       "    }\n",
       "\n",
       "    .dataframe tbody tr th {\n",
       "        vertical-align: top;\n",
       "    }\n",
       "\n",
       "    .dataframe thead th {\n",
       "        text-align: right;\n",
       "    }\n",
       "</style>\n",
       "<table border=\"1\" class=\"dataframe\">\n",
       "  <thead>\n",
       "    <tr style=\"text-align: right;\">\n",
       "      <th></th>\n",
       "      <th>text</th>\n",
       "      <th>location</th>\n",
       "      <th>occurs</th>\n",
       "    </tr>\n",
       "  </thead>\n",
       "  <tbody>\n",
       "    <tr>\n",
       "      <th>334</th>\n",
       "      <td>B-Disraeli-Sybil-1845-M.txt</td>\n",
       "      <td>Sybil</td>\n",
       "      <td>1</td>\n",
       "    </tr>\n",
       "    <tr>\n",
       "      <th>276</th>\n",
       "      <td>A-Twain-Huck_Finn-1885-M.txt</td>\n",
       "      <td>Goshen</td>\n",
       "      <td>1</td>\n",
       "    </tr>\n",
       "    <tr>\n",
       "      <th>506</th>\n",
       "      <td>A-Chopin-Awakening-1899-F.txt</td>\n",
       "      <td>New Orleans</td>\n",
       "      <td>1</td>\n",
       "    </tr>\n",
       "    <tr>\n",
       "      <th>249</th>\n",
       "      <td>A-Stowe-Uncle_Tom-1852-F.txt</td>\n",
       "      <td>Providence</td>\n",
       "      <td>4</td>\n",
       "    </tr>\n",
       "    <tr>\n",
       "      <th>600</th>\n",
       "      <td>B-Stevenson-Treasure_Island-1883-M.txt</td>\n",
       "      <td>Treasure Island</td>\n",
       "      <td>1</td>\n",
       "    </tr>\n",
       "    <tr>\n",
       "      <th>109</th>\n",
       "      <td>B-Eliot-Middlemarch-1869-F.txt</td>\n",
       "      <td>Horrock</td>\n",
       "      <td>3</td>\n",
       "    </tr>\n",
       "    <tr>\n",
       "      <th>601</th>\n",
       "      <td>B-Stevenson-Treasure_Island-1883-M.txt</td>\n",
       "      <td>Long John</td>\n",
       "      <td>1</td>\n",
       "    </tr>\n",
       "    <tr>\n",
       "      <th>401</th>\n",
       "      <td>B-Thackeray-Vanity_Fair-1848-M.txt</td>\n",
       "      <td>Bloomsbury</td>\n",
       "      <td>1</td>\n",
       "    </tr>\n",
       "    <tr>\n",
       "      <th>454</th>\n",
       "      <td>B-Dickens-Bleak_House-1853-M.txt</td>\n",
       "      <td>Strand</td>\n",
       "      <td>1</td>\n",
       "    </tr>\n",
       "    <tr>\n",
       "      <th>100</th>\n",
       "      <td>B-Eliot-Middlemarch-1869-F.txt</td>\n",
       "      <td>Chariot</td>\n",
       "      <td>1</td>\n",
       "    </tr>\n",
       "  </tbody>\n",
       "</table>\n",
       "</div>"
      ],
      "text/plain": [
       "                                       text         location  occurs\n",
       "334             B-Disraeli-Sybil-1845-M.txt            Sybil       1\n",
       "276            A-Twain-Huck_Finn-1885-M.txt           Goshen       1\n",
       "506           A-Chopin-Awakening-1899-F.txt      New Orleans       1\n",
       "249            A-Stowe-Uncle_Tom-1852-F.txt       Providence       4\n",
       "600  B-Stevenson-Treasure_Island-1883-M.txt  Treasure Island       1\n",
       "109          B-Eliot-Middlemarch-1869-F.txt          Horrock       3\n",
       "601  B-Stevenson-Treasure_Island-1883-M.txt        Long John       1\n",
       "401      B-Thackeray-Vanity_Fair-1848-M.txt       Bloomsbury       1\n",
       "454        B-Dickens-Bleak_House-1853-M.txt           Strand       1\n",
       "100          B-Eliot-Middlemarch-1869-F.txt          Chariot       1"
      ]
     },
     "metadata": {
      "tags": []
     },
     "output_type": "display_data"
    }
   ],
   "source": [
    "# Show a random sample of 10 entities\n",
    "display(locations.sample(10))"
   ]
  },
  {
   "cell_type": "markdown",
   "metadata": {
    "colab_type": "text",
    "id": "iJMYOWSPQo4d"
   },
   "source": [
    "We can then group locations together and order by total occurrences, in order to see what are the most common locations mentioned across the corpus."
   ]
  },
  {
   "cell_type": "code",
   "execution_count": 0,
   "metadata": {
    "colab": {
     "base_uri": "https://localhost:8080/",
     "height": 221
    },
    "colab_type": "code",
    "id": "ZzSAnkqtwcr9",
    "outputId": "df94fde9-b872-4d4b-c846-c2fdf707eff7"
   },
   "outputs": [
    {
     "data": {
      "text/plain": [
       "location\n",
       "London        102\n",
       "Montoni        91\n",
       "Rome           56\n",
       "England        51\n",
       "New York       41\n",
       "Amelia         41\n",
       "Charlotte      38\n",
       "Valancourt     32\n",
       "Felix          28\n",
       "Venice         23\n",
       "Name: occurs, dtype: int64"
      ]
     },
     "execution_count": 10,
     "metadata": {
      "tags": []
     },
     "output_type": "execute_result"
    }
   ],
   "source": [
    "# Top locations\n",
    "locations.groupby('location').occurs.sum().sort_values(ascending=False).head(10)"
   ]
  },
  {
   "cell_type": "markdown",
   "metadata": {
    "colab_type": "text",
    "id": "gq3q2aUyRJd0"
   },
   "source": [
    "In some cases, locations are just not very informative or are likely to be errors. For example, if they do not occur regularly, or only occur in small number of texts in the corpus. \n",
    "\n",
    "What happens if we chose to filter the results based on user-defined thresholds?"
   ]
  },
  {
   "cell_type": "code",
   "execution_count": 0,
   "metadata": {
    "colab": {
     "base_uri": "https://localhost:8080/",
     "height": 374
    },
    "colab_type": "code",
    "id": "iZLW1r5LxS85",
    "outputId": "07f976f2-b436-4d36-fc6d-8f42d8bd4a72"
   },
   "outputs": [
    {
     "name": "stdout",
     "output_type": "stream",
     "text": [
      "Total location occurences before culling: 1592\n",
      "           occurs     volumes\n",
      "count  479.000000  479.000000\n",
      "mean     3.323591    1.308977\n",
      "std      8.315792    1.284174\n",
      "min      1.000000    1.000000\n",
      "25%      1.000000    1.000000\n",
      "50%      1.000000    1.000000\n",
      "75%      2.000000    1.000000\n",
      "max    102.000000   16.000000\n",
      "\n",
      "Total location occurences after culling: 461\n",
      "           occurs    volumes\n",
      "count   18.000000  18.000000\n",
      "mean    25.611111   6.166667\n",
      "std     24.514435   3.974181\n",
      "min      6.000000   3.000000\n",
      "25%     10.000000   3.000000\n",
      "50%     17.000000   4.500000\n",
      "75%     34.250000   7.750000\n",
      "max    102.000000  16.000000\n"
     ]
    }
   ],
   "source": [
    "# Cull locations that are infrequent or occur in few books\n",
    "min_occurs = 5 # Must occur at least this many times total in the corpus\n",
    "min_vols = 3   # Must occur in at least this many volumes\n",
    "\n",
    "# Create a new dataframe, leaving the original unmodified\n",
    "place_counts = pd.DataFrame(locations.groupby('location').occurs.sum())\n",
    "place_counts['volumes'] = locations.groupby('location').occurs.size()\n",
    "\n",
    "print(\"Total location occurences before culling:\", place_counts.occurs.sum())\n",
    "print(place_counts.describe())\n",
    "\n",
    "# Cull placenames using thresholds\n",
    "place_counts = place_counts.loc[\n",
    "                                (place_counts['occurs']>=min_occurs) \n",
    "                                & (place_counts['volumes']>=min_vols)\n",
    "                                ]\n",
    "print(\"\\nTotal location occurences after culling:\", place_counts.occurs.sum())\n",
    "print(place_counts.describe())"
   ]
  },
  {
   "cell_type": "code",
   "execution_count": 0,
   "metadata": {
    "colab": {
     "base_uri": "https://localhost:8080/",
     "height": 390
    },
    "colab_type": "code",
    "id": "jJNho6OwzCUM",
    "outputId": "c85959e2-98b4-46f9-8bf2-5dc256b454c0"
   },
   "outputs": [
    {
     "data": {
      "text/html": [
       "<div>\n",
       "<style scoped>\n",
       "    .dataframe tbody tr th:only-of-type {\n",
       "        vertical-align: middle;\n",
       "    }\n",
       "\n",
       "    .dataframe tbody tr th {\n",
       "        vertical-align: top;\n",
       "    }\n",
       "\n",
       "    .dataframe thead th {\n",
       "        text-align: right;\n",
       "    }\n",
       "</style>\n",
       "<table border=\"1\" class=\"dataframe\">\n",
       "  <thead>\n",
       "    <tr style=\"text-align: right;\">\n",
       "      <th></th>\n",
       "      <th>occurs</th>\n",
       "      <th>volumes</th>\n",
       "    </tr>\n",
       "    <tr>\n",
       "      <th>location</th>\n",
       "      <th></th>\n",
       "      <th></th>\n",
       "    </tr>\n",
       "  </thead>\n",
       "  <tbody>\n",
       "    <tr>\n",
       "      <th>London</th>\n",
       "      <td>102</td>\n",
       "      <td>16</td>\n",
       "    </tr>\n",
       "    <tr>\n",
       "      <th>Rome</th>\n",
       "      <td>56</td>\n",
       "      <td>8</td>\n",
       "    </tr>\n",
       "    <tr>\n",
       "      <th>England</th>\n",
       "      <td>51</td>\n",
       "      <td>14</td>\n",
       "    </tr>\n",
       "    <tr>\n",
       "      <th>New York</th>\n",
       "      <td>41</td>\n",
       "      <td>6</td>\n",
       "    </tr>\n",
       "    <tr>\n",
       "      <th>Charlotte</th>\n",
       "      <td>38</td>\n",
       "      <td>4</td>\n",
       "    </tr>\n",
       "    <tr>\n",
       "      <th>Venice</th>\n",
       "      <td>23</td>\n",
       "      <td>3</td>\n",
       "    </tr>\n",
       "    <tr>\n",
       "      <th>Paris</th>\n",
       "      <td>21</td>\n",
       "      <td>7</td>\n",
       "    </tr>\n",
       "    <tr>\n",
       "      <th>France</th>\n",
       "      <td>20</td>\n",
       "      <td>10</td>\n",
       "    </tr>\n",
       "    <tr>\n",
       "      <th>Brighton</th>\n",
       "      <td>18</td>\n",
       "      <td>3</td>\n",
       "    </tr>\n",
       "    <tr>\n",
       "      <th>Italy</th>\n",
       "      <td>16</td>\n",
       "      <td>5</td>\n",
       "    </tr>\n",
       "  </tbody>\n",
       "</table>\n",
       "</div>"
      ],
      "text/plain": [
       "           occurs  volumes\n",
       "location                  \n",
       "London        102       16\n",
       "Rome           56        8\n",
       "England        51       14\n",
       "New York       41        6\n",
       "Charlotte      38        4\n",
       "Venice         23        3\n",
       "Paris          21        7\n",
       "France         20       10\n",
       "Brighton       18        3\n",
       "Italy          16        5"
      ]
     },
     "execution_count": 12,
     "metadata": {
      "tags": []
     },
     "output_type": "execute_result"
    }
   ],
   "source": [
    "# Show culled data\n",
    "place_counts.sort_values(by='occurs', ascending=False).head(10)"
   ]
  },
  {
   "cell_type": "markdown",
   "metadata": {
    "colab_type": "text",
    "id": "0LkGCVvbJMqa"
   },
   "source": [
    "Better, but not perfect. See, e.g., \"Charlotte\". There exists a well-known Charlotte, N.C. but in this case, Charlotte is almost certainly the name of a person, not a location.\n",
    "\n",
    "Why might it be the case the some entities are miscategorised?"
   ]
  },
  {
   "cell_type": "markdown",
   "metadata": {
    "colab_type": "text",
    "id": "vaPhP0MHStmb"
   },
   "source": [
    "Despite the small errors in the results, they give us enough to work with for the moment. In the next section, we'll assign geographical coordinates to the places we've extracted from the novels."
   ]
  },
  {
   "cell_type": "code",
   "execution_count": 0,
   "metadata": {
    "colab": {
     "base_uri": "https://localhost:8080/",
     "height": 51
    },
    "colab_type": "code",
    "id": "WwZJjz9cz0rN",
    "outputId": "a64a0dc8-0e08-4f4e-fa50-abdf78ae78a1"
   },
   "outputs": [
    {
     "name": "stdout",
     "output_type": "stream",
     "text": [
      "Here's the beginning of the list of locations to geocode:\n"
     ]
    },
    {
     "data": {
      "text/plain": [
       "['America', 'Brighton', 'Canada', 'Charlotte', 'Chicago']"
      ]
     },
     "execution_count": 14,
     "metadata": {
      "tags": []
     },
     "output_type": "execute_result"
    }
   ],
   "source": [
    "# Create a list of locations to geocode\n",
    "locations_to_geocode = place_counts.index.to_list()\n",
    "print(\"Here's the beginning of the list of locations to geocode:\")\n",
    "locations_to_geocode[:5]"
   ]
  },
  {
   "cell_type": "markdown",
   "metadata": {
    "colab_type": "text",
    "id": "QSxuplLQyfvL"
   },
   "source": [
    "\n",
    "## Geocoding\n",
    "\n",
    "<i>Geocoding</i> is the term used to describe the process of assigning geographical coordinates to locations, along with ant additional information that might be bound to that location.\n",
    "\n",
    "As with NLP frameworks, there exists a bewlidering diversity of API's which can be used for geocoding. Each of these offers different levels of accuracy and scale.\n",
    "\n",
    "Examples of geocoding providers:\n",
    "\n",
    "* MapQuest\n",
    "* Google Maps ($)\n",
    "* OpenCage Geocoder\n",
    "* LocationIQ\n",
    "* NetToolKit\n",
    "\n",
    "In this workshop, we'll be demonstrating how to use both MapQuest and Google's geocoding service. Each of these come with some unfortuate baggage. Both require you to sign up for an API key and both have usage limits. For Mapquest, this limit is 15,000 queries a month.\n",
    "\n",
    "For Google, you have $200 worth of query credits per month. (See bibliography for links to Google's pricing scheme). Beyond this, you will be billed for additional queries. Hence, Google requires a billing account when you sign up. \n",
    "\n",
    "For our purposes, we're not going to exceed these limits in the workshop. However, if you do not want to sign up to Google's geocoding API, that's fine - you can still work with MapQuest.\n",
    "\n",
    "If you want to run the code below, you'll need to get a [MapQuest](https://developer.mapquest.com/) and a [Google API key](https://developers.google.com/maps/gmp-get-started). For our purposes, you should save your key (which is a string of random-looking text, about 40 characters long) as a text file in a safe place on your computer. An API key is like a password; anyone who has access to your key can use your API allocation and could therefore incur real-money charges on your behalf. We'll store they key in memory, but won't enter it directly in the code."
   ]
  },
  {
   "cell_type": "markdown",
   "metadata": {
    "colab_type": "text",
    "id": "71tjVhm7bUer"
   },
   "source": [
    "## Using `\u001d",
    "MapQuest`\u001c",
    "\n",
    "\n",
    "First, we install the `geocoder` package. `geocoder` is an interface to a whole bunch of geocoding services. It makes it easier to switch between services if you ever need to do so.\n",
    "\n",
    "You can comment out the pip command if you're running this remotely and you have already installed the package in advance."
   ]
  },
  {
   "cell_type": "code",
   "execution_count": 0,
   "metadata": {
    "colab": {
     "base_uri": "https://localhost:8080/",
     "height": 309
    },
    "colab_type": "code",
    "id": "-_UldjaaXjja",
    "outputId": "fb3f2c24-3ad0-4556-e2d7-29ac19aeda62"
   },
   "outputs": [
    {
     "name": "stdout",
     "output_type": "stream",
     "text": [
      "Collecting geocoder\n",
      "\u001b[?25l  Downloading https://files.pythonhosted.org/packages/4f/6b/13166c909ad2f2d76b929a4227c952630ebaf0d729f6317eb09cbceccbab/geocoder-1.38.1-py2.py3-none-any.whl (98kB)\n",
      "\r",
      "\u001b[K     |███▎                            | 10kB 16.0MB/s eta 0:00:01\r",
      "\u001b[K     |██████▋                         | 20kB 2.2MB/s eta 0:00:01\r",
      "\u001b[K     |██████████                      | 30kB 3.2MB/s eta 0:00:01\r",
      "\u001b[K     |█████████████▎                  | 40kB 2.1MB/s eta 0:00:01\r",
      "\u001b[K     |████████████████▋               | 51kB 2.6MB/s eta 0:00:01\r",
      "\u001b[K     |████████████████████            | 61kB 3.1MB/s eta 0:00:01\r",
      "\u001b[K     |███████████████████████▎        | 71kB 3.6MB/s eta 0:00:01\r",
      "\u001b[K     |██████████████████████████▋     | 81kB 4.0MB/s eta 0:00:01\r",
      "\u001b[K     |██████████████████████████████  | 92kB 4.5MB/s eta 0:00:01\r",
      "\u001b[K     |████████████████████████████████| 102kB 2.6MB/s \n",
      "\u001b[?25hRequirement already satisfied: requests in /usr/local/lib/python3.6/dist-packages (from geocoder) (2.21.0)\n",
      "Requirement already satisfied: click in /usr/local/lib/python3.6/dist-packages (from geocoder) (7.0)\n",
      "Requirement already satisfied: future in /usr/local/lib/python3.6/dist-packages (from geocoder) (0.16.0)\n",
      "Collecting ratelim\n",
      "  Downloading https://files.pythonhosted.org/packages/f2/98/7e6d147fd16a10a5f821db6e25f192265d6ecca3d82957a4fdd592cad49c/ratelim-0.1.6-py2.py3-none-any.whl\n",
      "Requirement already satisfied: six in /usr/local/lib/python3.6/dist-packages (from geocoder) (1.12.0)\n",
      "Requirement already satisfied: chardet<3.1.0,>=3.0.2 in /usr/local/lib/python3.6/dist-packages (from requests->geocoder) (3.0.4)\n",
      "Requirement already satisfied: urllib3<1.25,>=1.21.1 in /usr/local/lib/python3.6/dist-packages (from requests->geocoder) (1.24.3)\n",
      "Requirement already satisfied: certifi>=2017.4.17 in /usr/local/lib/python3.6/dist-packages (from requests->geocoder) (2019.9.11)\n",
      "Requirement already satisfied: idna<2.9,>=2.5 in /usr/local/lib/python3.6/dist-packages (from requests->geocoder) (2.8)\n",
      "Requirement already satisfied: decorator in /usr/local/lib/python3.6/dist-packages (from ratelim->geocoder) (4.4.1)\n",
      "Installing collected packages: ratelim, geocoder\n",
      "Successfully installed geocoder-1.38.1 ratelim-0.1.6\n"
     ]
    }
   ],
   "source": [
    "# Install and import geocoder package\n",
    "!pip install geocoder\n",
    "import geocoder"
   ]
  },
  {
   "cell_type": "markdown",
   "metadata": {
    "colab_type": "text",
    "id": "arHc7VV8bj_n"
   },
   "source": [
    "Next, upload your MapQuest API key, which you should have saved as `mapquest-key.txt`. When you run the cell below, you'll see a file-picker that will allow you to specify the file containing your key."
   ]
  },
  {
   "cell_type": "code",
   "execution_count": 0,
   "metadata": {
    "colab": {
     "base_uri": "https://localhost:8080/",
     "height": 71,
     "resources": {
      "http://localhost:8080/nbextensions/google.colab/files.js": {
       "data": "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",
       "headers": [
        [
         "content-type",
         "application/javascript"
        ]
       ],
       "ok": true,
       "status": 200,
       "status_text": ""
      }
     }
    },
    "colab_type": "code",
    "id": "kR92NwX3Xjjd",
    "outputId": "ca08611f-56b3-4fab-f134-663ff5f73132"
   },
   "outputs": [
    {
     "data": {
      "text/html": [
       "\n",
       "     <input type=\"file\" id=\"files-c8d4d892-fa76-4a1d-a362-13ccb1b41086\" name=\"files[]\" multiple disabled />\n",
       "     <output id=\"result-c8d4d892-fa76-4a1d-a362-13ccb1b41086\">\n",
       "      Upload widget is only available when the cell has been executed in the\n",
       "      current browser session. Please rerun this cell to enable.\n",
       "      </output>\n",
       "      <script src=\"/nbextensions/google.colab/files.js\"></script> "
      ],
      "text/plain": [
       "<IPython.core.display.HTML object>"
      ]
     },
     "metadata": {
      "tags": []
     },
     "output_type": "display_data"
    },
    {
     "name": "stdout",
     "output_type": "stream",
     "text": [
      "Saving mapquest-key.txt to mapquest-key.txt\n"
     ]
    }
   ],
   "source": [
    "# Upload Mapquest key\n",
    "from google.colab import files\n",
    "mapquest_file = files.upload()"
   ]
  },
  {
   "cell_type": "code",
   "execution_count": 0,
   "metadata": {
    "colab": {},
    "colab_type": "code",
    "id": "JojagxoEXjjf"
   },
   "outputs": [],
   "source": [
    "# read key as string\n",
    "mapquest_key = mapquest_file['mapquest-key.txt'].decode('utf-8').strip()"
   ]
  },
  {
   "cell_type": "markdown",
   "metadata": {
    "colab_type": "text",
    "id": "Lm48QFTkb0br"
   },
   "source": [
    "We're then able to query the MapQuest API by invoking `geocoder.mapquest()` on our predifined list of extracted locations."
   ]
  },
  {
   "cell_type": "code",
   "execution_count": 0,
   "metadata": {
    "colab": {},
    "colab_type": "code",
    "id": "OqZAZ1HDXjjg"
   },
   "outputs": [],
   "source": [
    "# Perform batch geocode\n",
    "mapquest_geocode_output = geocoder.mapquest(locations_to_geocode, key=mapquest_key, method='batch')"
   ]
  },
  {
   "cell_type": "markdown",
   "metadata": {
    "colab_type": "text",
    "id": "4OLsXH0pcK93"
   },
   "source": [
    "We then do some quick post-processing of the results. This is primarily to bring the output into line with the output from the Google API, allowing for reproduceable results further down the line."
   ]
  },
  {
   "cell_type": "code",
   "execution_count": 0,
   "metadata": {
    "colab": {},
    "colab_type": "code",
    "id": "lEbXl9RGXjji"
   },
   "outputs": [],
   "source": [
    "# Convert geocoder output to format matching Google\n",
    "mapquest_geocode_data = []\n",
    "for i in mapquest_geocode_output:\n",
    "    try:\n",
    "        result = {\n",
    "        'formatted_address' : i.address,\n",
    "        'location_type' : i.quality,\n",
    "        'country' : i.country,\n",
    "        'admin_1' : i.state,\n",
    "        'admin_2' : i.county,\n",
    "        'locality' : i.locality,\n",
    "        'lat' : i.lat,\n",
    "        'lon' : i.lng}\n",
    "        mapquest_geocode_data.append(result)\n",
    "    except:\n",
    "        print(f\"Bad geocode for result {i.address}\")"
   ]
  },
  {
   "cell_type": "markdown",
   "metadata": {
    "colab_type": "text",
    "id": "V3BqCjI8drbX"
   },
   "source": [
    "If we create a dataframe from these results and inspect the first few results, you'll see the kind of information available via geocoding. \n",
    "\n",
    "Not only do we have precise geographical coordinates, we have information about the type of location (city, state, country, etc), as well as more detailed local administrative information such as county."
   ]
  },
  {
   "cell_type": "code",
   "execution_count": 0,
   "metadata": {
    "colab": {
     "base_uri": "https://localhost:8080/",
     "height": 204
    },
    "colab_type": "code",
    "id": "RB635alTXjjk",
    "outputId": "e1d0dcdb-1bbe-4400-921f-1b86f714f1bb"
   },
   "outputs": [
    {
     "data": {
      "text/html": [
       "<div>\n",
       "<style scoped>\n",
       "    .dataframe tbody tr th:only-of-type {\n",
       "        vertical-align: middle;\n",
       "    }\n",
       "\n",
       "    .dataframe tbody tr th {\n",
       "        vertical-align: top;\n",
       "    }\n",
       "\n",
       "    .dataframe thead th {\n",
       "        text-align: right;\n",
       "    }\n",
       "</style>\n",
       "<table border=\"1\" class=\"dataframe\">\n",
       "  <thead>\n",
       "    <tr style=\"text-align: right;\">\n",
       "      <th></th>\n",
       "      <th>formatted_address</th>\n",
       "      <th>location_type</th>\n",
       "      <th>country</th>\n",
       "      <th>admin_1</th>\n",
       "      <th>admin_2</th>\n",
       "      <th>locality</th>\n",
       "      <th>lat</th>\n",
       "      <th>lon</th>\n",
       "    </tr>\n",
       "  </thead>\n",
       "  <tbody>\n",
       "    <tr>\n",
       "      <th>America</th>\n",
       "      <td>America</td>\n",
       "      <td>CITY</td>\n",
       "      <td>US</td>\n",
       "      <td>OK</td>\n",
       "      <td>McCurtain County</td>\n",
       "      <td>America</td>\n",
       "      <td>33.815300</td>\n",
       "      <td>-94.548302</td>\n",
       "    </tr>\n",
       "    <tr>\n",
       "      <th>Brighton</th>\n",
       "      <td>Brighton</td>\n",
       "      <td>CITY</td>\n",
       "      <td>GB</td>\n",
       "      <td></td>\n",
       "      <td>East Sussex</td>\n",
       "      <td>Brighton</td>\n",
       "      <td>50.822040</td>\n",
       "      <td>-0.137406</td>\n",
       "    </tr>\n",
       "    <tr>\n",
       "      <th>Canada</th>\n",
       "      <td>CA</td>\n",
       "      <td>COUNTRY</td>\n",
       "      <td>CA</td>\n",
       "      <td></td>\n",
       "      <td></td>\n",
       "      <td></td>\n",
       "      <td>56.511018</td>\n",
       "      <td>-105.908203</td>\n",
       "    </tr>\n",
       "    <tr>\n",
       "      <th>Charlotte</th>\n",
       "      <td>Charlotte</td>\n",
       "      <td>CITY</td>\n",
       "      <td>US</td>\n",
       "      <td>NC</td>\n",
       "      <td>Mecklenburg County</td>\n",
       "      <td>Charlotte</td>\n",
       "      <td>35.222936</td>\n",
       "      <td>-80.840161</td>\n",
       "    </tr>\n",
       "    <tr>\n",
       "      <th>Chicago</th>\n",
       "      <td>Chicago</td>\n",
       "      <td>CITY</td>\n",
       "      <td>US</td>\n",
       "      <td>IL</td>\n",
       "      <td>Cook County</td>\n",
       "      <td>Chicago</td>\n",
       "      <td>41.883229</td>\n",
       "      <td>-87.632398</td>\n",
       "    </tr>\n",
       "  </tbody>\n",
       "</table>\n",
       "</div>"
      ],
      "text/plain": [
       "          formatted_address location_type  ...        lat         lon\n",
       "America             America          CITY  ...  33.815300  -94.548302\n",
       "Brighton           Brighton          CITY  ...  50.822040   -0.137406\n",
       "Canada                   CA       COUNTRY  ...  56.511018 -105.908203\n",
       "Charlotte         Charlotte          CITY  ...  35.222936  -80.840161\n",
       "Chicago             Chicago          CITY  ...  41.883229  -87.632398\n",
       "\n",
       "[5 rows x 8 columns]"
      ]
     },
     "execution_count": 23,
     "metadata": {
      "tags": []
     },
     "output_type": "execute_result"
    }
   ],
   "source": [
    "# create DataFrame and inspect first 5 entries\n",
    "mapquest_geodata = pd.DataFrame(mapquest_geocode_data, index=locations_to_geocode)\n",
    "mapquest_geodata.head()"
   ]
  },
  {
   "cell_type": "markdown",
   "metadata": {
    "colab_type": "text",
    "id": "jG1yXafedCxX"
   },
   "source": [
    "Now that we have the geocoded data, we can merge these results with our earlier dataframe called `locations` which showed which novel the entity came from. \n",
    "\n",
    "This gives us a new dataframe which contains information about the text, the locations mentioned, the number of occurrences, and the new geocoding data."
   ]
  },
  {
   "cell_type": "code",
   "execution_count": 0,
   "metadata": {
    "colab": {
     "base_uri": "https://localhost:8080/",
     "height": 289
    },
    "colab_type": "code",
    "id": "05lkTAqPXjjl",
    "outputId": "6dbe9780-e33a-4783-8280-ebd444290cfd"
   },
   "outputs": [
    {
     "data": {
      "text/html": [
       "<div>\n",
       "<style scoped>\n",
       "    .dataframe tbody tr th:only-of-type {\n",
       "        vertical-align: middle;\n",
       "    }\n",
       "\n",
       "    .dataframe tbody tr th {\n",
       "        vertical-align: top;\n",
       "    }\n",
       "\n",
       "    .dataframe thead th {\n",
       "        text-align: right;\n",
       "    }\n",
       "</style>\n",
       "<table border=\"1\" class=\"dataframe\">\n",
       "  <thead>\n",
       "    <tr style=\"text-align: right;\">\n",
       "      <th></th>\n",
       "      <th>text</th>\n",
       "      <th>location</th>\n",
       "      <th>occurs</th>\n",
       "      <th>formatted_address</th>\n",
       "      <th>location_type</th>\n",
       "      <th>country</th>\n",
       "      <th>admin_1</th>\n",
       "      <th>admin_2</th>\n",
       "      <th>locality</th>\n",
       "      <th>lat</th>\n",
       "      <th>lon</th>\n",
       "    </tr>\n",
       "  </thead>\n",
       "  <tbody>\n",
       "    <tr>\n",
       "      <th>577</th>\n",
       "      <td>B-Gaskell-North_South-1855-F.txt</td>\n",
       "      <td>England</td>\n",
       "      <td>3</td>\n",
       "      <td>GB</td>\n",
       "      <td>STATE</td>\n",
       "      <td>GB</td>\n",
       "      <td>ENGLAND</td>\n",
       "      <td></td>\n",
       "      <td></td>\n",
       "      <td>52.795479</td>\n",
       "      <td>-0.540240</td>\n",
       "    </tr>\n",
       "    <tr>\n",
       "      <th>172</th>\n",
       "      <td>A-Dreiser-Sister_Carrie-1900-M.txt</td>\n",
       "      <td>America</td>\n",
       "      <td>1</td>\n",
       "      <td>America</td>\n",
       "      <td>CITY</td>\n",
       "      <td>US</td>\n",
       "      <td>OK</td>\n",
       "      <td>McCurtain County</td>\n",
       "      <td>America</td>\n",
       "      <td>33.815300</td>\n",
       "      <td>-94.548302</td>\n",
       "    </tr>\n",
       "    <tr>\n",
       "      <th>281</th>\n",
       "      <td>B-Bronte_E-Wuthering_Heights-1847-F.txt</td>\n",
       "      <td>America</td>\n",
       "      <td>1</td>\n",
       "      <td>America</td>\n",
       "      <td>CITY</td>\n",
       "      <td>US</td>\n",
       "      <td>OK</td>\n",
       "      <td>McCurtain County</td>\n",
       "      <td>America</td>\n",
       "      <td>33.815300</td>\n",
       "      <td>-94.548302</td>\n",
       "    </tr>\n",
       "    <tr>\n",
       "      <th>452</th>\n",
       "      <td>B-Dickens-Bleak_House-1853-M.txt</td>\n",
       "      <td>Venice</td>\n",
       "      <td>1</td>\n",
       "      <td>Venice</td>\n",
       "      <td>CITY</td>\n",
       "      <td>IT</td>\n",
       "      <td>VENETO</td>\n",
       "      <td>Province of Venice</td>\n",
       "      <td>Venice</td>\n",
       "      <td>45.437191</td>\n",
       "      <td>12.334590</td>\n",
       "    </tr>\n",
       "    <tr>\n",
       "      <th>29</th>\n",
       "      <td>A-Wharton-Age_Innocence-1920-F.txt</td>\n",
       "      <td>Paris</td>\n",
       "      <td>5</td>\n",
       "      <td>Paris</td>\n",
       "      <td>CITY</td>\n",
       "      <td>FR</td>\n",
       "      <td>ÎLE-DE-FRANCE</td>\n",
       "      <td>Paris</td>\n",
       "      <td>Paris</td>\n",
       "      <td>48.856506</td>\n",
       "      <td>2.352133</td>\n",
       "    </tr>\n",
       "  </tbody>\n",
       "</table>\n",
       "</div>"
      ],
      "text/plain": [
       "                                        text location  ...        lat        lon\n",
       "577         B-Gaskell-North_South-1855-F.txt  England  ...  52.795479  -0.540240\n",
       "172       A-Dreiser-Sister_Carrie-1900-M.txt  America  ...  33.815300 -94.548302\n",
       "281  B-Bronte_E-Wuthering_Heights-1847-F.txt  America  ...  33.815300 -94.548302\n",
       "452         B-Dickens-Bleak_House-1853-M.txt   Venice  ...  45.437191  12.334590\n",
       "29        A-Wharton-Age_Innocence-1920-F.txt    Paris  ...  48.856506   2.352133\n",
       "\n",
       "[5 rows x 11 columns]"
      ]
     },
     "metadata": {
      "tags": []
     },
     "output_type": "display_data"
    },
    {
     "name": "stdout",
     "output_type": "stream",
     "text": [
      "Total location occurrences: 461\n"
     ]
    }
   ],
   "source": [
    "# Assemble NER and geo data\n",
    "mapquest_data = locations.merge(mapquest_geodata, left_on='location', right_index=True).dropna(subset=['formatted_address'])\n",
    "display(mapquest_data.sample(5))\n",
    "print(\"Total location occurrences:\", mapquest_data.occurs.sum())"
   ]
  },
  {
   "cell_type": "code",
   "execution_count": 0,
   "metadata": {
    "colab": {
     "base_uri": "https://localhost:8080/",
     "height": 359
    },
    "colab_type": "code",
    "id": "ZxQbn5iyecrh",
    "outputId": "5054f760-f07f-46d6-f256-ca2d48c796fb"
   },
   "outputs": [
    {
     "data": {
      "text/html": [
       "<div>\n",
       "<style scoped>\n",
       "    .dataframe tbody tr th:only-of-type {\n",
       "        vertical-align: middle;\n",
       "    }\n",
       "\n",
       "    .dataframe tbody tr th {\n",
       "        vertical-align: top;\n",
       "    }\n",
       "\n",
       "    .dataframe thead th {\n",
       "        text-align: right;\n",
       "    }\n",
       "</style>\n",
       "<table border=\"1\" class=\"dataframe\">\n",
       "  <thead>\n",
       "    <tr style=\"text-align: right;\">\n",
       "      <th></th>\n",
       "      <th>formatted_address</th>\n",
       "      <th>lat</th>\n",
       "      <th>lon</th>\n",
       "      <th>location_type</th>\n",
       "      <th>occurs</th>\n",
       "    </tr>\n",
       "  </thead>\n",
       "  <tbody>\n",
       "    <tr>\n",
       "      <th>9</th>\n",
       "      <td>London</td>\n",
       "      <td>51.507276</td>\n",
       "      <td>-0.127660</td>\n",
       "      <td>CITY</td>\n",
       "      <td>102</td>\n",
       "    </tr>\n",
       "    <tr>\n",
       "      <th>14</th>\n",
       "      <td>Rome</td>\n",
       "      <td>41.893344</td>\n",
       "      <td>12.483072</td>\n",
       "      <td>CITY</td>\n",
       "      <td>56</td>\n",
       "    </tr>\n",
       "    <tr>\n",
       "      <th>6</th>\n",
       "      <td>GB</td>\n",
       "      <td>52.795479</td>\n",
       "      <td>-0.540240</td>\n",
       "      <td>STATE</td>\n",
       "      <td>51</td>\n",
       "    </tr>\n",
       "    <tr>\n",
       "      <th>11</th>\n",
       "      <td>New York</td>\n",
       "      <td>40.713054</td>\n",
       "      <td>-74.007228</td>\n",
       "      <td>CITY</td>\n",
       "      <td>41</td>\n",
       "    </tr>\n",
       "    <tr>\n",
       "      <th>3</th>\n",
       "      <td>Charlotte</td>\n",
       "      <td>35.222936</td>\n",
       "      <td>-80.840161</td>\n",
       "      <td>CITY</td>\n",
       "      <td>38</td>\n",
       "    </tr>\n",
       "    <tr>\n",
       "      <th>16</th>\n",
       "      <td>Venice</td>\n",
       "      <td>45.437191</td>\n",
       "      <td>12.334590</td>\n",
       "      <td>CITY</td>\n",
       "      <td>23</td>\n",
       "    </tr>\n",
       "    <tr>\n",
       "      <th>12</th>\n",
       "      <td>Paris</td>\n",
       "      <td>48.856506</td>\n",
       "      <td>2.352133</td>\n",
       "      <td>CITY</td>\n",
       "      <td>21</td>\n",
       "    </tr>\n",
       "    <tr>\n",
       "      <th>5</th>\n",
       "      <td>FR</td>\n",
       "      <td>46.623974</td>\n",
       "      <td>2.462247</td>\n",
       "      <td>COUNTRY</td>\n",
       "      <td>20</td>\n",
       "    </tr>\n",
       "    <tr>\n",
       "      <th>1</th>\n",
       "      <td>Brighton</td>\n",
       "      <td>50.822040</td>\n",
       "      <td>-0.137406</td>\n",
       "      <td>CITY</td>\n",
       "      <td>18</td>\n",
       "    </tr>\n",
       "    <tr>\n",
       "      <th>8</th>\n",
       "      <td>IT</td>\n",
       "      <td>43.524673</td>\n",
       "      <td>12.160500</td>\n",
       "      <td>COUNTRY</td>\n",
       "      <td>16</td>\n",
       "    </tr>\n",
       "  </tbody>\n",
       "</table>\n",
       "</div>"
      ],
      "text/plain": [
       "   formatted_address        lat        lon location_type  occurs\n",
       "9             London  51.507276  -0.127660          CITY     102\n",
       "14              Rome  41.893344  12.483072          CITY      56\n",
       "6                 GB  52.795479  -0.540240         STATE      51\n",
       "11          New York  40.713054 -74.007228          CITY      41\n",
       "3          Charlotte  35.222936 -80.840161          CITY      38\n",
       "16            Venice  45.437191  12.334590          CITY      23\n",
       "12             Paris  48.856506   2.352133          CITY      21\n",
       "5                 FR  46.623974   2.462247       COUNTRY      20\n",
       "1           Brighton  50.822040  -0.137406          CITY      18\n",
       "8                 IT  43.524673  12.160500       COUNTRY      16"
      ]
     },
     "metadata": {
      "tags": []
     },
     "output_type": "display_data"
    }
   ],
   "source": [
    "# Group by precise location\n",
    "mapquest_map_data = pd.DataFrame(mapquest_data.groupby(['formatted_address', 'lat', 'lon', 'location_type']).occurs.sum()).reset_index()\n",
    "display(mapquest_map_data.sort_values('occurs', ascending=False).head(10))"
   ]
  },
  {
   "cell_type": "markdown",
   "metadata": {
    "colab_type": "text",
    "id": "fY8TRMwyegFU"
   },
   "source": [
    "What do you think of these results? Does anything seem wrong? "
   ]
  },
  {
   "cell_type": "markdown",
   "metadata": {
    "colab_type": "text",
    "id": "D4JNdXZ0emEy"
   },
   "source": [
    "## Visualise on map\n",
    "\n",
    "Leaving aside our issues and concerns right now, we can visualise the results by plotting them on a map of Earth. We do this using the Plotly package."
   ]
  },
  {
   "cell_type": "code",
   "execution_count": 0,
   "metadata": {
    "colab": {
     "base_uri": "https://localhost:8080/",
     "height": 617
    },
    "colab_type": "code",
    "id": "eaR__E9iXjjp",
    "outputId": "ae7505e1-ab07-4319-91fc-22903d0decdf"
   },
   "outputs": [
    {
     "data": {
      "text/html": [
       "<html>\n",
       "<head><meta charset=\"utf-8\" /></head>\n",
       "<body>\n",
       "    <div>\n",
       "            <script src=\"https://cdnjs.cloudflare.com/ajax/libs/mathjax/2.7.5/MathJax.js?config=TeX-AMS-MML_SVG\"></script><script type=\"text/javascript\">if (window.MathJax) {MathJax.Hub.Config({SVG: {font: \"STIX-Web\"}});}</script>\n",
       "                <script type=\"text/javascript\">window.PlotlyConfig = {MathJaxConfig: 'local'};</script>\n",
       "        <script src=\"https://cdn.plot.ly/plotly-latest.min.js\"></script>    \n",
       "            <div id=\"59a3f714-fdda-4e18-a6f0-7005ef0a030d\" class=\"plotly-graph-div\" style=\"height:600px; width:100%;\"></div>\n",
       "            <script type=\"text/javascript\">\n",
       "                \n",
       "                    window.PLOTLYENV=window.PLOTLYENV || {};\n",
       "                    \n",
       "                if (document.getElementById(\"59a3f714-fdda-4e18-a6f0-7005ef0a030d\")) {\n",
       "                    Plotly.newPlot(\n",
       "                        '59a3f714-fdda-4e18-a6f0-7005ef0a030d',\n",
       "                        [{\"geo\": \"geo\", \"hoverlabel\": {\"namelength\": 0}, \"hovertemplate\": \"<b>%{hovertext}</b><br><br>location_type=CITY<br>occurs=%{marker.size}<br>lat=%{lat}<br>lon=%{lon}\", \"hovertext\": [\"America\", \"Brighton\", \"Charlotte\", \"Chicago\", \"London\", \"Mexico City\", \"New York\", \"Paris\", \"Providence\", \"Rome\", \"Venice\", \"Washington\"], \"lat\": [33.8153, 50.82204, 35.222936, 41.883229, 51.507276, 19.43253, 40.713054, 48.856506, 41.824461, 41.893344, 45.437191, 38.892062], \"legendgroup\": \"location_type=CITY\", \"lon\": [-94.548302, -0.137406, -80.840161, -87.632398, -0.12766, -99.13321, -74.007228, 2.352133, -71.412747, 12.483072, 12.33459, -77.019912], \"marker\": {\"color\": \"#636efa\", \"size\": [15, 18, 38, 10, 102, 15, 41, 21, 6, 56, 23, 6], \"sizemode\": \"area\", \"sizeref\": 0.255}, \"name\": \"location_type=CITY\", \"showlegend\": true, \"type\": \"scattergeo\"}, {\"geo\": \"geo\", \"hoverlabel\": {\"namelength\": 0}, \"hovertemplate\": \"<b>%{hovertext}</b><br><br>location_type=COUNTRY<br>occurs=%{marker.size}<br>lat=%{lat}<br>lon=%{lon}\", \"hovertext\": [\"CA\", \"FR\", \"IN\", \"IT\"], \"lat\": [56.511018, 46.623974, 27.0858, 43.524673], \"legendgroup\": \"location_type=COUNTRY\", \"lon\": [-105.908203, 2.462247, 80.314003, 12.1605], \"marker\": {\"color\": \"#EF553B\", \"size\": [6, 20, 10, 16], \"sizemode\": \"area\", \"sizeref\": 0.255}, \"name\": \"location_type=COUNTRY\", \"showlegend\": true, \"type\": \"scattergeo\"}, {\"geo\": \"geo\", \"hoverlabel\": {\"namelength\": 0}, \"hovertemplate\": \"<b>%{hovertext}</b><br><br>location_type=STATE<br>occurs=%{marker.size}<br>lat=%{lat}<br>lon=%{lon}\", \"hovertext\": [\"GB\", \"US\"], \"lat\": [52.795479, 40.415534], \"legendgroup\": \"location_type=STATE\", \"lon\": [-0.54024, -82.70936], \"marker\": {\"color\": \"#00cc96\", \"size\": [51, 7], \"sizemode\": \"area\", \"sizeref\": 0.255}, \"name\": \"location_type=STATE\", \"showlegend\": true, \"type\": \"scattergeo\"}],\n",
       "                        {\"geo\": {\"center\": {}, \"domain\": {\"x\": [0.0, 0.98], \"y\": [0.0, 1.0]}, \"projection\": {\"type\": \"natural earth\"}}, \"height\": 600, \"legend\": {\"itemsizing\": \"constant\", \"tracegroupgap\": 0}, \"margin\": {\"t\": 60}, \"template\": {\"data\": {\"bar\": [{\"error_x\": {\"color\": \"#2a3f5f\"}, \"error_y\": {\"color\": \"#2a3f5f\"}, \"marker\": {\"line\": {\"color\": \"#E5ECF6\", \"width\": 0.5}}, \"type\": \"bar\"}], \"barpolar\": [{\"marker\": {\"line\": {\"color\": \"#E5ECF6\", \"width\": 0.5}}, \"type\": \"barpolar\"}], \"carpet\": [{\"aaxis\": {\"endlinecolor\": \"#2a3f5f\", \"gridcolor\": \"white\", \"linecolor\": \"white\", \"minorgridcolor\": \"white\", \"startlinecolor\": \"#2a3f5f\"}, \"baxis\": {\"endlinecolor\": \"#2a3f5f\", \"gridcolor\": \"white\", \"linecolor\": \"white\", \"minorgridcolor\": \"white\", \"startlinecolor\": \"#2a3f5f\"}, \"type\": \"carpet\"}], \"choropleth\": [{\"colorbar\": {\"outlinewidth\": 0, \"ticks\": \"\"}, \"type\": \"choropleth\"}], \"contour\": [{\"colorbar\": {\"outlinewidth\": 0, \"ticks\": \"\"}, \"colorscale\": [[0.0, \"#0d0887\"], [0.1111111111111111, \"#46039f\"], [0.2222222222222222, \"#7201a8\"], [0.3333333333333333, \"#9c179e\"], [0.4444444444444444, \"#bd3786\"], [0.5555555555555556, \"#d8576b\"], [0.6666666666666666, \"#ed7953\"], [0.7777777777777778, \"#fb9f3a\"], [0.8888888888888888, \"#fdca26\"], [1.0, \"#f0f921\"]], \"type\": \"contour\"}], \"contourcarpet\": [{\"colorbar\": {\"outlinewidth\": 0, \"ticks\": \"\"}, \"type\": \"contourcarpet\"}], \"heatmap\": [{\"colorbar\": {\"outlinewidth\": 0, \"ticks\": \"\"}, \"colorscale\": [[0.0, \"#0d0887\"], [0.1111111111111111, \"#46039f\"], [0.2222222222222222, \"#7201a8\"], [0.3333333333333333, \"#9c179e\"], [0.4444444444444444, \"#bd3786\"], [0.5555555555555556, \"#d8576b\"], [0.6666666666666666, \"#ed7953\"], [0.7777777777777778, \"#fb9f3a\"], [0.8888888888888888, \"#fdca26\"], [1.0, \"#f0f921\"]], \"type\": \"heatmap\"}], \"heatmapgl\": [{\"colorbar\": {\"outlinewidth\": 0, \"ticks\": \"\"}, \"colorscale\": [[0.0, \"#0d0887\"], [0.1111111111111111, \"#46039f\"], [0.2222222222222222, \"#7201a8\"], [0.3333333333333333, \"#9c179e\"], [0.4444444444444444, \"#bd3786\"], [0.5555555555555556, \"#d8576b\"], [0.6666666666666666, \"#ed7953\"], [0.7777777777777778, \"#fb9f3a\"], [0.8888888888888888, \"#fdca26\"], [1.0, \"#f0f921\"]], \"type\": \"heatmapgl\"}], \"histogram\": [{\"marker\": {\"colorbar\": {\"outlinewidth\": 0, \"ticks\": \"\"}}, \"type\": \"histogram\"}], \"histogram2d\": [{\"colorbar\": {\"outlinewidth\": 0, \"ticks\": \"\"}, \"colorscale\": [[0.0, \"#0d0887\"], [0.1111111111111111, \"#46039f\"], [0.2222222222222222, \"#7201a8\"], [0.3333333333333333, \"#9c179e\"], [0.4444444444444444, \"#bd3786\"], [0.5555555555555556, \"#d8576b\"], [0.6666666666666666, \"#ed7953\"], [0.7777777777777778, \"#fb9f3a\"], [0.8888888888888888, \"#fdca26\"], [1.0, \"#f0f921\"]], \"type\": \"histogram2d\"}], \"histogram2dcontour\": [{\"colorbar\": {\"outlinewidth\": 0, \"ticks\": \"\"}, \"colorscale\": [[0.0, \"#0d0887\"], [0.1111111111111111, \"#46039f\"], [0.2222222222222222, \"#7201a8\"], [0.3333333333333333, \"#9c179e\"], [0.4444444444444444, \"#bd3786\"], [0.5555555555555556, \"#d8576b\"], [0.6666666666666666, \"#ed7953\"], [0.7777777777777778, \"#fb9f3a\"], [0.8888888888888888, \"#fdca26\"], [1.0, \"#f0f921\"]], \"type\": \"histogram2dcontour\"}], \"mesh3d\": [{\"colorbar\": {\"outlinewidth\": 0, \"ticks\": \"\"}, \"type\": \"mesh3d\"}], \"parcoords\": [{\"line\": {\"colorbar\": {\"outlinewidth\": 0, \"ticks\": \"\"}}, \"type\": \"parcoords\"}], \"scatter\": [{\"marker\": {\"colorbar\": {\"outlinewidth\": 0, \"ticks\": \"\"}}, \"type\": \"scatter\"}], \"scatter3d\": [{\"line\": {\"colorbar\": {\"outlinewidth\": 0, \"ticks\": \"\"}}, \"marker\": {\"colorbar\": {\"outlinewidth\": 0, \"ticks\": \"\"}}, \"type\": \"scatter3d\"}], \"scattercarpet\": [{\"marker\": {\"colorbar\": {\"outlinewidth\": 0, \"ticks\": \"\"}}, \"type\": \"scattercarpet\"}], \"scattergeo\": [{\"marker\": {\"colorbar\": {\"outlinewidth\": 0, \"ticks\": \"\"}}, \"type\": \"scattergeo\"}], \"scattergl\": [{\"marker\": {\"colorbar\": {\"outlinewidth\": 0, \"ticks\": \"\"}}, \"type\": \"scattergl\"}], \"scattermapbox\": [{\"marker\": {\"colorbar\": {\"outlinewidth\": 0, \"ticks\": \"\"}}, \"type\": \"scattermapbox\"}], \"scatterpolar\": [{\"marker\": {\"colorbar\": {\"outlinewidth\": 0, \"ticks\": \"\"}}, \"type\": \"scatterpolar\"}], \"scatterpolargl\": [{\"marker\": {\"colorbar\": {\"outlinewidth\": 0, \"ticks\": \"\"}}, \"type\": \"scatterpolargl\"}], \"scatterternary\": [{\"marker\": {\"colorbar\": {\"outlinewidth\": 0, \"ticks\": \"\"}}, \"type\": \"scatterternary\"}], \"surface\": [{\"colorbar\": {\"outlinewidth\": 0, \"ticks\": \"\"}, \"colorscale\": [[0.0, \"#0d0887\"], [0.1111111111111111, \"#46039f\"], [0.2222222222222222, \"#7201a8\"], [0.3333333333333333, \"#9c179e\"], [0.4444444444444444, \"#bd3786\"], [0.5555555555555556, \"#d8576b\"], [0.6666666666666666, \"#ed7953\"], [0.7777777777777778, \"#fb9f3a\"], [0.8888888888888888, \"#fdca26\"], [1.0, \"#f0f921\"]], \"type\": \"surface\"}], \"table\": [{\"cells\": {\"fill\": {\"color\": \"#EBF0F8\"}, \"line\": {\"color\": \"white\"}}, \"header\": {\"fill\": {\"color\": \"#C8D4E3\"}, \"line\": {\"color\": \"white\"}}, \"type\": \"table\"}]}, \"layout\": {\"annotationdefaults\": {\"arrowcolor\": \"#2a3f5f\", \"arrowhead\": 0, \"arrowwidth\": 1}, \"colorscale\": {\"diverging\": [[0, \"#8e0152\"], [0.1, \"#c51b7d\"], [0.2, \"#de77ae\"], [0.3, \"#f1b6da\"], [0.4, \"#fde0ef\"], [0.5, \"#f7f7f7\"], [0.6, \"#e6f5d0\"], [0.7, \"#b8e186\"], [0.8, \"#7fbc41\"], [0.9, \"#4d9221\"], [1, \"#276419\"]], \"sequential\": [[0.0, \"#0d0887\"], [0.1111111111111111, \"#46039f\"], [0.2222222222222222, \"#7201a8\"], [0.3333333333333333, \"#9c179e\"], [0.4444444444444444, \"#bd3786\"], [0.5555555555555556, \"#d8576b\"], [0.6666666666666666, \"#ed7953\"], [0.7777777777777778, \"#fb9f3a\"], [0.8888888888888888, \"#fdca26\"], [1.0, \"#f0f921\"]], \"sequentialminus\": [[0.0, \"#0d0887\"], [0.1111111111111111, \"#46039f\"], [0.2222222222222222, \"#7201a8\"], [0.3333333333333333, \"#9c179e\"], [0.4444444444444444, \"#bd3786\"], [0.5555555555555556, \"#d8576b\"], [0.6666666666666666, \"#ed7953\"], [0.7777777777777778, \"#fb9f3a\"], [0.8888888888888888, \"#fdca26\"], [1.0, \"#f0f921\"]]}, \"colorway\": [\"#636efa\", \"#EF553B\", \"#00cc96\", \"#ab63fa\", \"#FFA15A\", \"#19d3f3\", \"#FF6692\", \"#B6E880\", \"#FF97FF\", \"#FECB52\"], \"font\": {\"color\": \"#2a3f5f\"}, \"geo\": {\"bgcolor\": \"white\", \"lakecolor\": \"white\", \"landcolor\": \"#E5ECF6\", \"showlakes\": true, \"showland\": true, \"subunitcolor\": \"white\"}, \"hoverlabel\": {\"align\": \"left\"}, \"hovermode\": \"closest\", \"mapbox\": {\"style\": \"light\"}, \"paper_bgcolor\": \"white\", \"plot_bgcolor\": \"#E5ECF6\", \"polar\": {\"angularaxis\": {\"gridcolor\": \"white\", \"linecolor\": \"white\", \"ticks\": \"\"}, \"bgcolor\": \"#E5ECF6\", \"radialaxis\": {\"gridcolor\": \"white\", \"linecolor\": \"white\", \"ticks\": \"\"}}, \"scene\": {\"xaxis\": {\"backgroundcolor\": \"#E5ECF6\", \"gridcolor\": \"white\", \"gridwidth\": 2, \"linecolor\": \"white\", \"showbackground\": true, \"ticks\": \"\", \"zerolinecolor\": \"white\"}, \"yaxis\": {\"backgroundcolor\": \"#E5ECF6\", \"gridcolor\": \"white\", \"gridwidth\": 2, \"linecolor\": \"white\", \"showbackground\": true, \"ticks\": \"\", \"zerolinecolor\": \"white\"}, \"zaxis\": {\"backgroundcolor\": \"#E5ECF6\", \"gridcolor\": \"white\", \"gridwidth\": 2, \"linecolor\": \"white\", \"showbackground\": true, \"ticks\": \"\", \"zerolinecolor\": \"white\"}}, \"shapedefaults\": {\"line\": {\"color\": \"#2a3f5f\"}}, \"ternary\": {\"aaxis\": {\"gridcolor\": \"white\", \"linecolor\": \"white\", \"ticks\": \"\"}, \"baxis\": {\"gridcolor\": \"white\", \"linecolor\": \"white\", \"ticks\": \"\"}, \"bgcolor\": \"#E5ECF6\", \"caxis\": {\"gridcolor\": \"white\", \"linecolor\": \"white\", \"ticks\": \"\"}}, \"title\": {\"x\": 0.05}, \"xaxis\": {\"automargin\": true, \"gridcolor\": \"white\", \"linecolor\": \"white\", \"ticks\": \"\", \"zerolinecolor\": \"white\", \"zerolinewidth\": 2}, \"yaxis\": {\"automargin\": true, \"gridcolor\": \"white\", \"linecolor\": \"white\", \"ticks\": \"\", \"zerolinecolor\": \"white\", \"zerolinewidth\": 2}}}},\n",
       "                        {\"responsive\": true}\n",
       "                    ).then(function(){\n",
       "                            \n",
       "var gd = document.getElementById('59a3f714-fdda-4e18-a6f0-7005ef0a030d');\n",
       "var x = new MutationObserver(function (mutations, observer) {{\n",
       "        var display = window.getComputedStyle(gd).display;\n",
       "        if (!display || display === 'none') {{\n",
       "            console.log([gd, 'removed!']);\n",
       "            Plotly.purge(gd);\n",
       "            observer.disconnect();\n",
       "        }}\n",
       "}});\n",
       "\n",
       "// Listen for the removal of the full notebook cells\n",
       "var notebookContainer = gd.closest('#notebook-container');\n",
       "if (notebookContainer) {{\n",
       "    x.observe(notebookContainer, {childList: true});\n",
       "}}\n",
       "\n",
       "// Listen for the clearing of the current output cell\n",
       "var outputEl = gd.closest('.output');\n",
       "if (outputEl) {{\n",
       "    x.observe(outputEl, {childList: true});\n",
       "}}\n",
       "\n",
       "                        })\n",
       "                };\n",
       "                \n",
       "            </script>\n",
       "        </div>\n",
       "</body>\n",
       "</html>"
      ]
     },
     "metadata": {
      "tags": []
     },
     "output_type": "display_data"
    }
   ],
   "source": [
    "# Show locations on a map\n",
    "import plotly.express as px\n",
    "fig = px.scatter_geo(mapquest_map_data, lat='lat', lon='lon',\n",
    "                     hover_name=\"formatted_address\", size=\"occurs\",\n",
    "                     color='location_type',\n",
    "                     projection=\"natural earth\")\n",
    "fig.show()"
   ]
  },
  {
   "cell_type": "markdown",
   "metadata": {
    "colab_type": "text",
    "id": "3OHrUap4sRzo"
   },
   "source": [
    "What do these results show? What might they tell you about the literary texts from which they are extracted?"
   ]
  },
  {
   "cell_type": "markdown",
   "metadata": {
    "colab_type": "text",
    "id": "HMh_VnfOe8ZP"
   },
   "source": [
    "## Using `\u001d",
    "Google Places`\u001d",
    "\n",
    "\n",
    "The section that follows reproduces the same kind of pipeline as above. In this case, though, we're using Google's API rather than MapQuest's. The following few cells are more-or-less identical to those at the start of the MapQuest pipeline."
   ]
  },
  {
   "cell_type": "code",
   "execution_count": 0,
   "metadata": {
    "colab": {
     "base_uri": "https://localhost:8080/",
     "height": 190
    },
    "colab_type": "code",
    "id": "Uvk1swA3y1tV",
    "outputId": "0764d8e2-6e99-4a24-9619-06cf6ba20894"
   },
   "outputs": [
    {
     "name": "stdout",
     "output_type": "stream",
     "text": [
      "Collecting googlemaps\n",
      "  Downloading https://files.pythonhosted.org/packages/9b/33/b93685916130c07325645d06a765dae23f4655b7aeb79c8a96fe9f552e26/googlemaps-3.1.3-py3-none-any.whl\n",
      "Requirement already satisfied: requests<3.0,>=2.20.0 in /usr/local/lib/python3.6/dist-packages (from googlemaps) (2.21.0)\n",
      "Requirement already satisfied: chardet<3.1.0,>=3.0.2 in /usr/local/lib/python3.6/dist-packages (from requests<3.0,>=2.20.0->googlemaps) (3.0.4)\n",
      "Requirement already satisfied: certifi>=2017.4.17 in /usr/local/lib/python3.6/dist-packages (from requests<3.0,>=2.20.0->googlemaps) (2019.9.11)\n",
      "Requirement already satisfied: urllib3<1.25,>=1.21.1 in /usr/local/lib/python3.6/dist-packages (from requests<3.0,>=2.20.0->googlemaps) (1.24.3)\n",
      "Requirement already satisfied: idna<2.9,>=2.5 in /usr/local/lib/python3.6/dist-packages (from requests<3.0,>=2.20.0->googlemaps) (2.8)\n",
      "Installing collected packages: googlemaps\n",
      "Successfully installed googlemaps-3.1.3\n"
     ]
    }
   ],
   "source": [
    "!pip install googlemaps\n",
    "import googlemaps"
   ]
  },
  {
   "cell_type": "code",
   "execution_count": 0,
   "metadata": {
    "colab": {
     "base_uri": "https://localhost:8080/",
     "height": 71,
     "resources": {
      "http://localhost:8080/nbextensions/google.colab/files.js": {
       "data": "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",
       "headers": [
        [
         "content-type",
         "application/javascript"
        ]
       ],
       "ok": true,
       "status": 200,
       "status_text": ""
      }
     }
    },
    "colab_type": "code",
    "id": "BAGIThC9OVO1",
    "outputId": "845df4c4-9ee4-4c4d-9b48-08cb536d972c"
   },
   "outputs": [
    {
     "data": {
      "text/html": [
       "\n",
       "     <input type=\"file\" id=\"files-abba3ba6-01d2-4a1b-adad-189a1351027f\" name=\"files[]\" multiple disabled />\n",
       "     <output id=\"result-abba3ba6-01d2-4a1b-adad-189a1351027f\">\n",
       "      Upload widget is only available when the cell has been executed in the\n",
       "      current browser session. Please rerun this cell to enable.\n",
       "      </output>\n",
       "      <script src=\"/nbextensions/google.colab/files.js\"></script> "
      ],
      "text/plain": [
       "<IPython.core.display.HTML object>"
      ]
     },
     "metadata": {
      "tags": []
     },
     "output_type": "display_data"
    },
    {
     "name": "stdout",
     "output_type": "stream",
     "text": [
      "Saving google-api.txt to google-api.txt\n"
     ]
    }
   ],
   "source": [
    "# Upload personal key file\n",
    "from google.colab import files\n",
    "uploaded = files.upload()"
   ]
  },
  {
   "cell_type": "code",
   "execution_count": 0,
   "metadata": {
    "colab": {
     "base_uri": "https://localhost:8080/",
     "height": 34
    },
    "colab_type": "code",
    "id": "X9NAGVpgQCRW",
    "outputId": "333fb2ce-403a-4704-c385-f18ca17774ea"
   },
   "outputs": [
    {
     "name": "stdout",
     "output_type": "stream",
     "text": [
      "39\n"
     ]
    }
   ],
   "source": [
    "# Save key content to variable for use later\n",
    "google_key = uploaded['google-api.txt'].decode('utf-8').strip()\n",
    "print(len(google_key))"
   ]
  },
  {
   "cell_type": "markdown",
   "metadata": {
    "colab_type": "text",
    "id": "JZUkXskcgSoC"
   },
   "source": [
    "To use Google's services, we need to initialise the Geocoding API and the Places API via the googlemaps package. Notice how, in this case, we're setting limits on the number of queries that we are performing every second!"
   ]
  },
  {
   "cell_type": "code",
   "execution_count": 0,
   "metadata": {
    "colab": {},
    "colab_type": "code",
    "id": "paaOQPQhTL8P"
   },
   "outputs": [],
   "source": [
    "# Set up googlemaps clients\n",
    "gc_rate  =     50 # Geocoding queries per second\n",
    "pl_rate  =      5 # Places queries per second\n",
    "\n",
    "gc_client = googlemaps.Client(key=google_key, queries_per_second=gc_rate) # For Geocoding API\n",
    "pl_client = googlemaps.Client(key=google_key, queries_per_second=pl_rate) # For Places API"
   ]
  },
  {
   "cell_type": "markdown",
   "metadata": {
    "colab_type": "text",
    "id": "LgiYu65sgxca"
   },
   "source": [
    "We'll need some user-defined functions, in order to manipulate the results from the API calls. Note that, in this case, we're not using the `geocoder` package.\n",
    "\n",
    "Due to time contraints, we probably don't have time to go into the inner workings of each function right now but feel free to ask if you want to go into detail.\n",
    "\n",
    "The multiline comments within each function explains how they works. If you're competent in Python, it should be fairly untroublesome to follow the logic. Take a minute to read the multiline comment and see if you can see what's happening.\n",
    "\n",
    "Does the logic seem reasonable to you? Can you see anything which might be problematic?"
   ]
  },
  {
   "cell_type": "code",
   "execution_count": 0,
   "metadata": {
    "colab": {},
    "colab_type": "code",
    "id": "tVvFmyDzTRdG"
   },
   "outputs": [],
   "source": [
    "# Functions to work with Google maps client data\n",
    "def get_placeid(string, api_client):\n",
    "    '''Takes a string and an established googlemaps places API client.\n",
    "       Returns first place_id associated with that string.\n",
    "       If no place_id found, returns None.'''\n",
    "    try:\n",
    "        place = api_client.places(string)\n",
    "        status = place['status']\n",
    "        if status == 'OK':\n",
    "            place_id = place['results'][0]['place_id']\n",
    "        elif status == 'ZERO_RESULTS':\n",
    "            place_id = None\n",
    "        else:\n",
    "            place_id = None\n",
    "    except:\n",
    "        place_id = None\n",
    "    return place_id\n",
    "\n",
    "def process_id(placeid, api_client):\n",
    "    '''Takes a Google place_id and an established googlemaps geocoding API client.\n",
    "        Looks up and parses geo data for placeid.\n",
    "        Returns int code on error, else dictionary of geo data.\n",
    "    '''\n",
    "    # Define all variables, initial to None\n",
    "    result = {\n",
    "    'formatted_address' : None,\n",
    "    'location_type' : None,\n",
    "    'country' : None,\n",
    "    'admin_1' : None,\n",
    "    'admin_2' : None,\n",
    "    'locality' : None,\n",
    "    'lat' : None,\n",
    "    'lon' : None,\n",
    "    'partial' : None,\n",
    "    }\n",
    "    # Perform reverse geocode.\n",
    "    try:\n",
    "        data = gc_client.reverse_geocode(placeid)\n",
    "    except:\n",
    "        return 1 # Problem with geocoding API call\n",
    "    \n",
    "    # Use the first result. Should only be one when reverse geocoding with place_id.\n",
    "    try:\n",
    "        data = data[0]\n",
    "        result['formatted_address'] = data['formatted_address']\n",
    "        result['location_type'] = data['types'][0]\n",
    "        result['lat'] = data['geometry']['location']['lat']\n",
    "        result['lon'] = data['geometry']['location']['lng']\n",
    "        try:\n",
    "            result['partial'] = result['partial_match']\n",
    "        except:\n",
    "            result['partial'] = False\n",
    "    except:\n",
    "        print(\"   Bad geocode for place_id %s\" % (placeid))\n",
    "        return 2 # Problem with basic geocode result\n",
    "    \n",
    "    try:\n",
    "        for addr_comp in data['address_components']:\n",
    "            comp_type = addr_comp['types'][0]\n",
    "            if comp_type == 'locality':\n",
    "                result['locality'] = addr_comp['long_name']\n",
    "            elif comp_type == 'country':\n",
    "                result['country'] = addr_comp['long_name']\n",
    "            elif comp_type == 'administrative_area_level_1':\n",
    "                result['admin_1'] = addr_comp['long_name']\n",
    "            elif comp_type == 'administrative_area_level_2':\n",
    "                result['admin_2'] = addr_comp['long_name']\n",
    "    except:\n",
    "        return 3 # Problem with address components\n",
    "    \n",
    "    return result"
   ]
  },
  {
   "cell_type": "markdown",
   "metadata": {
    "colab_type": "text",
    "id": "u5h5n6KiiIaJ"
   },
   "source": [
    "From this point on, the code again resembles the MapQuest pipeline above. Notice how it was beneficial to reshape the MapQuest results in the first place, so that we can recycle code!"
   ]
  },
  {
   "cell_type": "code",
   "execution_count": 0,
   "metadata": {
    "colab": {
     "base_uri": "https://localhost:8080/",
     "height": 68
    },
    "colab_type": "code",
    "id": "QnHnijTw0jFe",
    "outputId": "182d2258-accc-4946-eabe-12f007dcf11a"
   },
   "outputs": [
    {
     "name": "stdout",
     "output_type": "stream",
     "text": [
      "Successful geocodes: 18\n",
      "CPU times: user 119 ms, sys: 8.24 ms, total: 127 ms\n",
      "Wall time: 13.5 s\n"
     ]
    }
   ],
   "source": [
    "# Perform geocoding\n",
    "%%time\n",
    "google_geocode_output = {}\n",
    "for loc in locations_to_geocode:\n",
    "    placeid = get_placeid(loc, pl_client)\n",
    "      if placeid:\n",
    "        google_geocode_output[loc] = process_id(placeid, gc_client)\n",
    "print(\"Successful geocodes:\", len(google_geocode_output.keys()))"
   ]
  },
  {
   "cell_type": "markdown",
   "metadata": {
    "colab_type": "text",
    "id": "5bsFFSlSIrWV"
   },
   "source": [
    "You might have noticed that the Google geocode was slower than the MapQuest version. That's not because Google is slow. We throttled our queries to avoid running afoul of Google's usage limits (see the `queries_per_second` parameter in the client setup code above)."
   ]
  },
  {
   "cell_type": "code",
   "execution_count": 0,
   "metadata": {
    "colab": {
     "base_uri": "https://localhost:8080/",
     "height": 204
    },
    "colab_type": "code",
    "id": "tRYPiTea2XBR",
    "outputId": "7fd6ccc1-0b63-4038-e35c-dc11a52e0dde"
   },
   "outputs": [
    {
     "data": {
      "text/html": [
       "<div>\n",
       "<style scoped>\n",
       "    .dataframe tbody tr th:only-of-type {\n",
       "        vertical-align: middle;\n",
       "    }\n",
       "\n",
       "    .dataframe tbody tr th {\n",
       "        vertical-align: top;\n",
       "    }\n",
       "\n",
       "    .dataframe thead th {\n",
       "        text-align: right;\n",
       "    }\n",
       "</style>\n",
       "<table border=\"1\" class=\"dataframe\">\n",
       "  <thead>\n",
       "    <tr style=\"text-align: right;\">\n",
       "      <th></th>\n",
       "      <th>formatted_address</th>\n",
       "      <th>location_type</th>\n",
       "      <th>country</th>\n",
       "      <th>admin_1</th>\n",
       "      <th>admin_2</th>\n",
       "      <th>locality</th>\n",
       "      <th>lat</th>\n",
       "      <th>lon</th>\n",
       "      <th>partial</th>\n",
       "    </tr>\n",
       "  </thead>\n",
       "  <tbody>\n",
       "    <tr>\n",
       "      <th>America</th>\n",
       "      <td>United States</td>\n",
       "      <td>country</td>\n",
       "      <td>United States</td>\n",
       "      <td>None</td>\n",
       "      <td>None</td>\n",
       "      <td>None</td>\n",
       "      <td>37.090240</td>\n",
       "      <td>-95.712891</td>\n",
       "      <td>False</td>\n",
       "    </tr>\n",
       "    <tr>\n",
       "      <th>Brighton</th>\n",
       "      <td>5064 W 119th St, Leawood, KS 66209, USA</td>\n",
       "      <td>clothing_store</td>\n",
       "      <td>United States</td>\n",
       "      <td>Kansas</td>\n",
       "      <td>Johnson County</td>\n",
       "      <td>Leawood</td>\n",
       "      <td>38.914475</td>\n",
       "      <td>-94.644156</td>\n",
       "      <td>False</td>\n",
       "    </tr>\n",
       "    <tr>\n",
       "      <th>Canada</th>\n",
       "      <td>Canada</td>\n",
       "      <td>country</td>\n",
       "      <td>Canada</td>\n",
       "      <td>None</td>\n",
       "      <td>None</td>\n",
       "      <td>None</td>\n",
       "      <td>56.130366</td>\n",
       "      <td>-106.346771</td>\n",
       "      <td>False</td>\n",
       "    </tr>\n",
       "    <tr>\n",
       "      <th>Charlotte</th>\n",
       "      <td>Charlotte, NC, USA</td>\n",
       "      <td>locality</td>\n",
       "      <td>United States</td>\n",
       "      <td>North Carolina</td>\n",
       "      <td>Mecklenburg County</td>\n",
       "      <td>Charlotte</td>\n",
       "      <td>35.227087</td>\n",
       "      <td>-80.843127</td>\n",
       "      <td>False</td>\n",
       "    </tr>\n",
       "    <tr>\n",
       "      <th>Chicago</th>\n",
       "      <td>Chicago, IL, USA</td>\n",
       "      <td>locality</td>\n",
       "      <td>United States</td>\n",
       "      <td>Illinois</td>\n",
       "      <td>Cook County</td>\n",
       "      <td>Chicago</td>\n",
       "      <td>41.878114</td>\n",
       "      <td>-87.629798</td>\n",
       "      <td>False</td>\n",
       "    </tr>\n",
       "  </tbody>\n",
       "</table>\n",
       "</div>"
      ],
      "text/plain": [
       "                                 formatted_address  ... partial\n",
       "America                              United States  ...   False\n",
       "Brighton   5064 W 119th St, Leawood, KS 66209, USA  ...   False\n",
       "Canada                                      Canada  ...   False\n",
       "Charlotte                       Charlotte, NC, USA  ...   False\n",
       "Chicago                           Chicago, IL, USA  ...   False\n",
       "\n",
       "[5 rows x 9 columns]"
      ]
     },
     "execution_count": 41,
     "metadata": {
      "tags": []
     },
     "output_type": "execute_result"
    }
   ],
   "source": [
    "# Examine output\n",
    "google_geodata = pd.DataFrame.from_dict(google_geocode_output, orient='index')\n",
    "google_geodata.head()"
   ]
  },
  {
   "cell_type": "code",
   "execution_count": 0,
   "metadata": {
    "colab": {
     "base_uri": "https://localhost:8080/",
     "height": 340
    },
    "colab_type": "code",
    "id": "iFMOruot3Ctq",
    "outputId": "2b902cc7-1d7d-4ada-e8ab-7ebfea5c361b"
   },
   "outputs": [
    {
     "data": {
      "text/html": [
       "<div>\n",
       "<style scoped>\n",
       "    .dataframe tbody tr th:only-of-type {\n",
       "        vertical-align: middle;\n",
       "    }\n",
       "\n",
       "    .dataframe tbody tr th {\n",
       "        vertical-align: top;\n",
       "    }\n",
       "\n",
       "    .dataframe thead th {\n",
       "        text-align: right;\n",
       "    }\n",
       "</style>\n",
       "<table border=\"1\" class=\"dataframe\">\n",
       "  <thead>\n",
       "    <tr style=\"text-align: right;\">\n",
       "      <th></th>\n",
       "      <th>text</th>\n",
       "      <th>location</th>\n",
       "      <th>occurs</th>\n",
       "      <th>formatted_address</th>\n",
       "      <th>location_type</th>\n",
       "      <th>country</th>\n",
       "      <th>admin_1</th>\n",
       "      <th>admin_2</th>\n",
       "      <th>locality</th>\n",
       "      <th>lat</th>\n",
       "      <th>lon</th>\n",
       "      <th>partial</th>\n",
       "    </tr>\n",
       "  </thead>\n",
       "  <tbody>\n",
       "    <tr>\n",
       "      <th>197</th>\n",
       "      <td>A-Melville-Moby_Dick-1851-M.txt</td>\n",
       "      <td>France</td>\n",
       "      <td>1</td>\n",
       "      <td>France</td>\n",
       "      <td>country</td>\n",
       "      <td>France</td>\n",
       "      <td>None</td>\n",
       "      <td>None</td>\n",
       "      <td>None</td>\n",
       "      <td>46.227638</td>\n",
       "      <td>2.213749</td>\n",
       "      <td>False</td>\n",
       "    </tr>\n",
       "    <tr>\n",
       "      <th>375</th>\n",
       "      <td>B-Thackeray-Vanity_Fair-1848-M.txt</td>\n",
       "      <td>Brighton</td>\n",
       "      <td>10</td>\n",
       "      <td>5064 W 119th St, Leawood, KS 66209, USA</td>\n",
       "      <td>clothing_store</td>\n",
       "      <td>United States</td>\n",
       "      <td>Kansas</td>\n",
       "      <td>Johnson County</td>\n",
       "      <td>Leawood</td>\n",
       "      <td>38.914475</td>\n",
       "      <td>-94.644156</td>\n",
       "      <td>False</td>\n",
       "    </tr>\n",
       "    <tr>\n",
       "      <th>373</th>\n",
       "      <td>B-Thackeray-Vanity_Fair-1848-M.txt</td>\n",
       "      <td>England</td>\n",
       "      <td>4</td>\n",
       "      <td>England, UK</td>\n",
       "      <td>administrative_area_level_1</td>\n",
       "      <td>United Kingdom</td>\n",
       "      <td>England</td>\n",
       "      <td>None</td>\n",
       "      <td>None</td>\n",
       "      <td>52.355518</td>\n",
       "      <td>-1.174320</td>\n",
       "      <td>False</td>\n",
       "    </tr>\n",
       "    <tr>\n",
       "      <th>174</th>\n",
       "      <td>A-Dreiser-Sister_Carrie-1900-M.txt</td>\n",
       "      <td>New York</td>\n",
       "      <td>1</td>\n",
       "      <td>New York, NY, USA</td>\n",
       "      <td>locality</td>\n",
       "      <td>United States</td>\n",
       "      <td>New York</td>\n",
       "      <td>None</td>\n",
       "      <td>New York</td>\n",
       "      <td>40.712775</td>\n",
       "      <td>-74.005973</td>\n",
       "      <td>False</td>\n",
       "    </tr>\n",
       "    <tr>\n",
       "      <th>435</th>\n",
       "      <td>B-Dickens-Bleak_House-1853-M.txt</td>\n",
       "      <td>London</td>\n",
       "      <td>7</td>\n",
       "      <td>London, UK</td>\n",
       "      <td>locality</td>\n",
       "      <td>United Kingdom</td>\n",
       "      <td>England</td>\n",
       "      <td>Greater London</td>\n",
       "      <td>London</td>\n",
       "      <td>51.507351</td>\n",
       "      <td>-0.127758</td>\n",
       "      <td>False</td>\n",
       "    </tr>\n",
       "  </tbody>\n",
       "</table>\n",
       "</div>"
      ],
      "text/plain": [
       "                                   text  location  ...        lon partial\n",
       "197     A-Melville-Moby_Dick-1851-M.txt    France  ...   2.213749   False\n",
       "375  B-Thackeray-Vanity_Fair-1848-M.txt  Brighton  ... -94.644156   False\n",
       "373  B-Thackeray-Vanity_Fair-1848-M.txt   England  ...  -1.174320   False\n",
       "174  A-Dreiser-Sister_Carrie-1900-M.txt  New York  ... -74.005973   False\n",
       "435    B-Dickens-Bleak_House-1853-M.txt    London  ...  -0.127758   False\n",
       "\n",
       "[5 rows x 12 columns]"
      ]
     },
     "metadata": {
      "tags": []
     },
     "output_type": "display_data"
    },
    {
     "name": "stdout",
     "output_type": "stream",
     "text": [
      "Total location occurrences: 461\n"
     ]
    }
   ],
   "source": [
    "# Assemble NER and geo data\n",
    "google_data = locations.merge(google_geodata, left_on='location', right_index=True).dropna(subset=['formatted_address'])\n",
    "display(google_data.sample(5))\n",
    "print(\"Total location occurrences:\", google_data.occurs.sum())"
   ]
  },
  {
   "cell_type": "code",
   "execution_count": 0,
   "metadata": {
    "colab": {
     "base_uri": "https://localhost:8080/",
     "height": 359
    },
    "colab_type": "code",
    "id": "qENRsB635KLm",
    "outputId": "5d935d67-f8cb-4b55-9187-5713f5ad0219"
   },
   "outputs": [
    {
     "data": {
      "text/html": [
       "<div>\n",
       "<style scoped>\n",
       "    .dataframe tbody tr th:only-of-type {\n",
       "        vertical-align: middle;\n",
       "    }\n",
       "\n",
       "    .dataframe tbody tr th {\n",
       "        vertical-align: top;\n",
       "    }\n",
       "\n",
       "    .dataframe thead th {\n",
       "        text-align: right;\n",
       "    }\n",
       "</style>\n",
       "<table border=\"1\" class=\"dataframe\">\n",
       "  <thead>\n",
       "    <tr style=\"text-align: right;\">\n",
       "      <th></th>\n",
       "      <th>formatted_address</th>\n",
       "      <th>lat</th>\n",
       "      <th>lon</th>\n",
       "      <th>location_type</th>\n",
       "      <th>occurs</th>\n",
       "    </tr>\n",
       "  </thead>\n",
       "  <tbody>\n",
       "    <tr>\n",
       "      <th>9</th>\n",
       "      <td>London, UK</td>\n",
       "      <td>51.507351</td>\n",
       "      <td>-0.127758</td>\n",
       "      <td>locality</td>\n",
       "      <td>102</td>\n",
       "    </tr>\n",
       "    <tr>\n",
       "      <th>14</th>\n",
       "      <td>Rome, Metropolitan City of Rome, Italy</td>\n",
       "      <td>41.902783</td>\n",
       "      <td>12.496365</td>\n",
       "      <td>locality</td>\n",
       "      <td>56</td>\n",
       "    </tr>\n",
       "    <tr>\n",
       "      <th>5</th>\n",
       "      <td>England, UK</td>\n",
       "      <td>52.355518</td>\n",
       "      <td>-1.174320</td>\n",
       "      <td>administrative_area_level_1</td>\n",
       "      <td>51</td>\n",
       "    </tr>\n",
       "    <tr>\n",
       "      <th>11</th>\n",
       "      <td>New York, NY, USA</td>\n",
       "      <td>40.712775</td>\n",
       "      <td>-74.005973</td>\n",
       "      <td>locality</td>\n",
       "      <td>41</td>\n",
       "    </tr>\n",
       "    <tr>\n",
       "      <th>3</th>\n",
       "      <td>Charlotte, NC, USA</td>\n",
       "      <td>35.227087</td>\n",
       "      <td>-80.843127</td>\n",
       "      <td>locality</td>\n",
       "      <td>38</td>\n",
       "    </tr>\n",
       "    <tr>\n",
       "      <th>16</th>\n",
       "      <td>Venice, Metropolitan City of Venice, Italy</td>\n",
       "      <td>45.440847</td>\n",
       "      <td>12.315515</td>\n",
       "      <td>locality</td>\n",
       "      <td>23</td>\n",
       "    </tr>\n",
       "    <tr>\n",
       "      <th>13</th>\n",
       "      <td>Paris, France</td>\n",
       "      <td>48.856614</td>\n",
       "      <td>2.352222</td>\n",
       "      <td>locality</td>\n",
       "      <td>21</td>\n",
       "    </tr>\n",
       "    <tr>\n",
       "      <th>6</th>\n",
       "      <td>France</td>\n",
       "      <td>46.227638</td>\n",
       "      <td>2.213749</td>\n",
       "      <td>country</td>\n",
       "      <td>20</td>\n",
       "    </tr>\n",
       "    <tr>\n",
       "      <th>1</th>\n",
       "      <td>5064 W 119th St, Leawood, KS 66209, USA</td>\n",
       "      <td>38.914475</td>\n",
       "      <td>-94.644156</td>\n",
       "      <td>clothing_store</td>\n",
       "      <td>18</td>\n",
       "    </tr>\n",
       "    <tr>\n",
       "      <th>8</th>\n",
       "      <td>Italy</td>\n",
       "      <td>41.871940</td>\n",
       "      <td>12.567380</td>\n",
       "      <td>country</td>\n",
       "      <td>16</td>\n",
       "    </tr>\n",
       "  </tbody>\n",
       "</table>\n",
       "</div>"
      ],
      "text/plain": [
       "                             formatted_address  ...  occurs\n",
       "9                                   London, UK  ...     102\n",
       "14      Rome, Metropolitan City of Rome, Italy  ...      56\n",
       "5                                  England, UK  ...      51\n",
       "11                           New York, NY, USA  ...      41\n",
       "3                           Charlotte, NC, USA  ...      38\n",
       "16  Venice, Metropolitan City of Venice, Italy  ...      23\n",
       "13                               Paris, France  ...      21\n",
       "6                                       France  ...      20\n",
       "1      5064 W 119th St, Leawood, KS 66209, USA  ...      18\n",
       "8                                        Italy  ...      16\n",
       "\n",
       "[10 rows x 5 columns]"
      ]
     },
     "metadata": {
      "tags": []
     },
     "output_type": "display_data"
    }
   ],
   "source": [
    "# Group data by location for plotting\n",
    "google_map_data = pd.DataFrame(google_data.groupby(['formatted_address', 'lat', 'lon', 'location_type']).occurs.sum()).reset_index()\n",
    "display(google_map_data.sort_values('occurs', ascending=False).head(10))"
   ]
  },
  {
   "cell_type": "markdown",
   "metadata": {
    "colab_type": "text",
    "id": "foazgaR4wMZ2"
   },
   "source": [
    "How do these results from Google Places compare to those from MapQuest? Note the major error in Google's output concerning `Brighton`."
   ]
  },
  {
   "cell_type": "markdown",
   "metadata": {
    "colab_type": "text",
    "id": "qjh-kjQgy8aG"
   },
   "source": [
    "## Visualize on map\n",
    "\n"
   ]
  },
  {
   "cell_type": "code",
   "execution_count": 0,
   "metadata": {
    "colab": {
     "base_uri": "https://localhost:8080/",
     "height": 617
    },
    "colab_type": "code",
    "id": "u5YjfeoW4oHB",
    "outputId": "880dd014-1422-4d46-cd2a-e76e50658fbb"
   },
   "outputs": [
    {
     "data": {
      "text/html": [
       "<html>\n",
       "<head><meta charset=\"utf-8\" /></head>\n",
       "<body>\n",
       "    <div>\n",
       "            <script src=\"https://cdnjs.cloudflare.com/ajax/libs/mathjax/2.7.5/MathJax.js?config=TeX-AMS-MML_SVG\"></script><script type=\"text/javascript\">if (window.MathJax) {MathJax.Hub.Config({SVG: {font: \"STIX-Web\"}});}</script>\n",
       "                <script type=\"text/javascript\">window.PlotlyConfig = {MathJaxConfig: 'local'};</script>\n",
       "        <script src=\"https://cdn.plot.ly/plotly-latest.min.js\"></script>    \n",
       "            <div id=\"0ba13445-15ee-47f6-ad8c-c807846d0c65\" class=\"plotly-graph-div\" style=\"height:600px; width:100%;\"></div>\n",
       "            <script type=\"text/javascript\">\n",
       "                \n",
       "                    window.PLOTLYENV=window.PLOTLYENV || {};\n",
       "                    \n",
       "                if (document.getElementById(\"0ba13445-15ee-47f6-ad8c-c807846d0c65\")) {\n",
       "                    Plotly.newPlot(\n",
       "                        '0ba13445-15ee-47f6-ad8c-c807846d0c65',\n",
       "                        [{\"geo\": \"geo\", \"hoverlabel\": {\"namelength\": 0}, \"hovertemplate\": \"<b>%{hovertext}</b><br><br>location_type=establishment<br>occurs=%{marker.size}<br>lat=%{lat}<br>lon=%{lon}\", \"hovertext\": [\"1902 S 8th St, Rogers, AR 72758, USA\"], \"lat\": [36.3110036], \"legendgroup\": \"location_type=establishment\", \"lon\": [-94.1274307], \"marker\": {\"color\": \"#636efa\", \"size\": [6], \"sizemode\": \"area\", \"sizeref\": 0.255}, \"name\": \"location_type=establishment\", \"showlegend\": true, \"type\": \"scattergeo\"}, {\"geo\": \"geo\", \"hoverlabel\": {\"namelength\": 0}, \"hovertemplate\": \"<b>%{hovertext}</b><br><br>location_type=clothing_store<br>occurs=%{marker.size}<br>lat=%{lat}<br>lon=%{lon}\", \"hovertext\": [\"5064 W 119th St, Leawood, KS 66209, USA\"], \"lat\": [38.9144754], \"legendgroup\": \"location_type=clothing_store\", \"lon\": [-94.6441559], \"marker\": {\"color\": \"#EF553B\", \"size\": [18], \"sizemode\": \"area\", \"sizeref\": 0.255}, \"name\": \"location_type=clothing_store\", \"showlegend\": true, \"type\": \"scattergeo\"}, {\"geo\": \"geo\", \"hoverlabel\": {\"namelength\": 0}, \"hovertemplate\": \"<b>%{hovertext}</b><br><br>location_type=country<br>occurs=%{marker.size}<br>lat=%{lat}<br>lon=%{lon}\", \"hovertext\": [\"Canada\", \"France\", \"India\", \"Italy\", \"Mexico\", \"United States\"], \"lat\": [56.130366, 46.227638, 20.593684, 41.87194, 23.634501, 37.09024], \"legendgroup\": \"location_type=country\", \"lon\": [-106.346771, 2.213749, 78.96288, 12.56738, -102.552784, -95.712891], \"marker\": {\"color\": \"#00cc96\", \"size\": [6, 20, 10, 16, 15, 15], \"sizemode\": \"area\", \"sizeref\": 0.255}, \"name\": \"location_type=country\", \"showlegend\": true, \"type\": \"scattergeo\"}, {\"geo\": \"geo\", \"hoverlabel\": {\"namelength\": 0}, \"hovertemplate\": \"<b>%{hovertext}</b><br><br>location_type=locality<br>occurs=%{marker.size}<br>lat=%{lat}<br>lon=%{lon}\", \"hovertext\": [\"Charlotte, NC, USA\", \"Chicago, IL, USA\", \"London, UK\", \"New York, NY, USA\", \"Paris, France\", \"Rome, Metropolitan City of Rome, Italy\", \"Venice, Metropolitan City of Venice, Italy\"], \"lat\": [35.2270869, 41.8781136, 51.5073509, 40.7127753, 48.856614, 41.9027835, 45.4408474], \"legendgroup\": \"location_type=locality\", \"lon\": [-80.8431267, -87.6297982, -0.1277583, -74.0059728, 2.3522219, 12.4963655, 12.3155151], \"marker\": {\"color\": \"#ab63fa\", \"size\": [38, 10, 102, 41, 21, 56, 23], \"sizemode\": \"area\", \"sizeref\": 0.255}, \"name\": \"location_type=locality\", \"showlegend\": true, \"type\": \"scattergeo\"}, {\"geo\": \"geo\", \"hoverlabel\": {\"namelength\": 0}, \"hovertemplate\": \"<b>%{hovertext}</b><br><br>location_type=administrative_area_level_1<br>occurs=%{marker.size}<br>lat=%{lat}<br>lon=%{lon}\", \"hovertext\": [\"England, UK\", \"Ohio, USA\", \"Washington, USA\"], \"lat\": [52.3555177, 40.4172871, 47.7510741], \"legendgroup\": \"location_type=administrative_area_level_1\", \"lon\": [-1.1743197, -82.90712300000001, -120.7401385], \"marker\": {\"color\": \"#FFA15A\", \"size\": [51, 7, 6], \"sizemode\": \"area\", \"sizeref\": 0.255}, \"name\": \"location_type=administrative_area_level_1\", \"showlegend\": true, \"type\": \"scattergeo\"}],\n",
       "                        {\"geo\": {\"center\": {}, \"domain\": {\"x\": [0.0, 0.98], \"y\": [0.0, 1.0]}, \"projection\": {\"type\": \"natural earth\"}}, \"height\": 600, \"legend\": {\"itemsizing\": \"constant\", \"tracegroupgap\": 0}, \"margin\": {\"t\": 60}, \"template\": {\"data\": {\"bar\": [{\"error_x\": {\"color\": \"#2a3f5f\"}, \"error_y\": {\"color\": \"#2a3f5f\"}, \"marker\": {\"line\": {\"color\": \"#E5ECF6\", \"width\": 0.5}}, \"type\": \"bar\"}], \"barpolar\": [{\"marker\": {\"line\": {\"color\": \"#E5ECF6\", \"width\": 0.5}}, \"type\": \"barpolar\"}], \"carpet\": [{\"aaxis\": {\"endlinecolor\": \"#2a3f5f\", \"gridcolor\": \"white\", \"linecolor\": \"white\", \"minorgridcolor\": \"white\", \"startlinecolor\": \"#2a3f5f\"}, \"baxis\": {\"endlinecolor\": \"#2a3f5f\", \"gridcolor\": \"white\", \"linecolor\": \"white\", \"minorgridcolor\": \"white\", \"startlinecolor\": \"#2a3f5f\"}, \"type\": \"carpet\"}], \"choropleth\": [{\"colorbar\": {\"outlinewidth\": 0, \"ticks\": \"\"}, \"type\": \"choropleth\"}], \"contour\": [{\"colorbar\": {\"outlinewidth\": 0, \"ticks\": \"\"}, \"colorscale\": [[0.0, \"#0d0887\"], [0.1111111111111111, \"#46039f\"], [0.2222222222222222, \"#7201a8\"], [0.3333333333333333, \"#9c179e\"], [0.4444444444444444, \"#bd3786\"], [0.5555555555555556, \"#d8576b\"], [0.6666666666666666, \"#ed7953\"], [0.7777777777777778, \"#fb9f3a\"], [0.8888888888888888, \"#fdca26\"], [1.0, \"#f0f921\"]], \"type\": \"contour\"}], \"contourcarpet\": [{\"colorbar\": {\"outlinewidth\": 0, \"ticks\": \"\"}, \"type\": \"contourcarpet\"}], \"heatmap\": [{\"colorbar\": {\"outlinewidth\": 0, \"ticks\": \"\"}, \"colorscale\": [[0.0, \"#0d0887\"], [0.1111111111111111, \"#46039f\"], [0.2222222222222222, \"#7201a8\"], [0.3333333333333333, \"#9c179e\"], [0.4444444444444444, \"#bd3786\"], [0.5555555555555556, \"#d8576b\"], [0.6666666666666666, \"#ed7953\"], [0.7777777777777778, \"#fb9f3a\"], [0.8888888888888888, \"#fdca26\"], [1.0, \"#f0f921\"]], \"type\": \"heatmap\"}], \"heatmapgl\": [{\"colorbar\": {\"outlinewidth\": 0, \"ticks\": \"\"}, \"colorscale\": [[0.0, \"#0d0887\"], [0.1111111111111111, \"#46039f\"], [0.2222222222222222, \"#7201a8\"], [0.3333333333333333, \"#9c179e\"], [0.4444444444444444, \"#bd3786\"], [0.5555555555555556, \"#d8576b\"], [0.6666666666666666, \"#ed7953\"], [0.7777777777777778, \"#fb9f3a\"], [0.8888888888888888, \"#fdca26\"], [1.0, \"#f0f921\"]], \"type\": \"heatmapgl\"}], \"histogram\": [{\"marker\": {\"colorbar\": {\"outlinewidth\": 0, \"ticks\": \"\"}}, \"type\": \"histogram\"}], \"histogram2d\": [{\"colorbar\": {\"outlinewidth\": 0, \"ticks\": \"\"}, \"colorscale\": [[0.0, \"#0d0887\"], [0.1111111111111111, \"#46039f\"], [0.2222222222222222, \"#7201a8\"], [0.3333333333333333, \"#9c179e\"], [0.4444444444444444, \"#bd3786\"], [0.5555555555555556, \"#d8576b\"], [0.6666666666666666, \"#ed7953\"], [0.7777777777777778, \"#fb9f3a\"], [0.8888888888888888, \"#fdca26\"], [1.0, \"#f0f921\"]], \"type\": \"histogram2d\"}], \"histogram2dcontour\": [{\"colorbar\": {\"outlinewidth\": 0, \"ticks\": \"\"}, \"colorscale\": [[0.0, \"#0d0887\"], [0.1111111111111111, \"#46039f\"], [0.2222222222222222, \"#7201a8\"], [0.3333333333333333, \"#9c179e\"], [0.4444444444444444, \"#bd3786\"], [0.5555555555555556, \"#d8576b\"], [0.6666666666666666, \"#ed7953\"], [0.7777777777777778, \"#fb9f3a\"], [0.8888888888888888, \"#fdca26\"], [1.0, \"#f0f921\"]], \"type\": \"histogram2dcontour\"}], \"mesh3d\": [{\"colorbar\": {\"outlinewidth\": 0, \"ticks\": \"\"}, \"type\": \"mesh3d\"}], \"parcoords\": [{\"line\": {\"colorbar\": {\"outlinewidth\": 0, \"ticks\": \"\"}}, \"type\": \"parcoords\"}], \"scatter\": [{\"marker\": {\"colorbar\": {\"outlinewidth\": 0, \"ticks\": \"\"}}, \"type\": \"scatter\"}], \"scatter3d\": [{\"line\": {\"colorbar\": {\"outlinewidth\": 0, \"ticks\": \"\"}}, \"marker\": {\"colorbar\": {\"outlinewidth\": 0, \"ticks\": \"\"}}, \"type\": \"scatter3d\"}], \"scattercarpet\": [{\"marker\": {\"colorbar\": {\"outlinewidth\": 0, \"ticks\": \"\"}}, \"type\": \"scattercarpet\"}], \"scattergeo\": [{\"marker\": {\"colorbar\": {\"outlinewidth\": 0, \"ticks\": \"\"}}, \"type\": \"scattergeo\"}], \"scattergl\": [{\"marker\": {\"colorbar\": {\"outlinewidth\": 0, \"ticks\": \"\"}}, \"type\": \"scattergl\"}], \"scattermapbox\": [{\"marker\": {\"colorbar\": {\"outlinewidth\": 0, \"ticks\": \"\"}}, \"type\": \"scattermapbox\"}], \"scatterpolar\": [{\"marker\": {\"colorbar\": {\"outlinewidth\": 0, \"ticks\": \"\"}}, \"type\": \"scatterpolar\"}], \"scatterpolargl\": [{\"marker\": {\"colorbar\": {\"outlinewidth\": 0, \"ticks\": \"\"}}, \"type\": \"scatterpolargl\"}], \"scatterternary\": [{\"marker\": {\"colorbar\": {\"outlinewidth\": 0, \"ticks\": \"\"}}, \"type\": \"scatterternary\"}], \"surface\": [{\"colorbar\": {\"outlinewidth\": 0, \"ticks\": \"\"}, \"colorscale\": [[0.0, \"#0d0887\"], [0.1111111111111111, \"#46039f\"], [0.2222222222222222, \"#7201a8\"], [0.3333333333333333, \"#9c179e\"], [0.4444444444444444, \"#bd3786\"], [0.5555555555555556, \"#d8576b\"], [0.6666666666666666, \"#ed7953\"], [0.7777777777777778, \"#fb9f3a\"], [0.8888888888888888, \"#fdca26\"], [1.0, \"#f0f921\"]], \"type\": \"surface\"}], \"table\": [{\"cells\": {\"fill\": {\"color\": \"#EBF0F8\"}, \"line\": {\"color\": \"white\"}}, \"header\": {\"fill\": {\"color\": \"#C8D4E3\"}, \"line\": {\"color\": \"white\"}}, \"type\": \"table\"}]}, \"layout\": {\"annotationdefaults\": {\"arrowcolor\": \"#2a3f5f\", \"arrowhead\": 0, \"arrowwidth\": 1}, \"colorscale\": {\"diverging\": [[0, \"#8e0152\"], [0.1, \"#c51b7d\"], [0.2, \"#de77ae\"], [0.3, \"#f1b6da\"], [0.4, \"#fde0ef\"], [0.5, \"#f7f7f7\"], [0.6, \"#e6f5d0\"], [0.7, \"#b8e186\"], [0.8, \"#7fbc41\"], [0.9, \"#4d9221\"], [1, \"#276419\"]], \"sequential\": [[0.0, \"#0d0887\"], [0.1111111111111111, \"#46039f\"], [0.2222222222222222, \"#7201a8\"], [0.3333333333333333, \"#9c179e\"], [0.4444444444444444, \"#bd3786\"], [0.5555555555555556, \"#d8576b\"], [0.6666666666666666, \"#ed7953\"], [0.7777777777777778, \"#fb9f3a\"], [0.8888888888888888, \"#fdca26\"], [1.0, \"#f0f921\"]], \"sequentialminus\": [[0.0, \"#0d0887\"], [0.1111111111111111, \"#46039f\"], [0.2222222222222222, \"#7201a8\"], [0.3333333333333333, \"#9c179e\"], [0.4444444444444444, \"#bd3786\"], [0.5555555555555556, \"#d8576b\"], [0.6666666666666666, \"#ed7953\"], [0.7777777777777778, \"#fb9f3a\"], [0.8888888888888888, \"#fdca26\"], [1.0, \"#f0f921\"]]}, \"colorway\": [\"#636efa\", \"#EF553B\", \"#00cc96\", \"#ab63fa\", \"#FFA15A\", \"#19d3f3\", \"#FF6692\", \"#B6E880\", \"#FF97FF\", \"#FECB52\"], \"font\": {\"color\": \"#2a3f5f\"}, \"geo\": {\"bgcolor\": \"white\", \"lakecolor\": \"white\", \"landcolor\": \"#E5ECF6\", \"showlakes\": true, \"showland\": true, \"subunitcolor\": \"white\"}, \"hoverlabel\": {\"align\": \"left\"}, \"hovermode\": \"closest\", \"mapbox\": {\"style\": \"light\"}, \"paper_bgcolor\": \"white\", \"plot_bgcolor\": \"#E5ECF6\", \"polar\": {\"angularaxis\": {\"gridcolor\": \"white\", \"linecolor\": \"white\", \"ticks\": \"\"}, \"bgcolor\": \"#E5ECF6\", \"radialaxis\": {\"gridcolor\": \"white\", \"linecolor\": \"white\", \"ticks\": \"\"}}, \"scene\": {\"xaxis\": {\"backgroundcolor\": \"#E5ECF6\", \"gridcolor\": \"white\", \"gridwidth\": 2, \"linecolor\": \"white\", \"showbackground\": true, \"ticks\": \"\", \"zerolinecolor\": \"white\"}, \"yaxis\": {\"backgroundcolor\": \"#E5ECF6\", \"gridcolor\": \"white\", \"gridwidth\": 2, \"linecolor\": \"white\", \"showbackground\": true, \"ticks\": \"\", \"zerolinecolor\": \"white\"}, \"zaxis\": {\"backgroundcolor\": \"#E5ECF6\", \"gridcolor\": \"white\", \"gridwidth\": 2, \"linecolor\": \"white\", \"showbackground\": true, \"ticks\": \"\", \"zerolinecolor\": \"white\"}}, \"shapedefaults\": {\"line\": {\"color\": \"#2a3f5f\"}}, \"ternary\": {\"aaxis\": {\"gridcolor\": \"white\", \"linecolor\": \"white\", \"ticks\": \"\"}, \"baxis\": {\"gridcolor\": \"white\", \"linecolor\": \"white\", \"ticks\": \"\"}, \"bgcolor\": \"#E5ECF6\", \"caxis\": {\"gridcolor\": \"white\", \"linecolor\": \"white\", \"ticks\": \"\"}}, \"title\": {\"x\": 0.05}, \"xaxis\": {\"automargin\": true, \"gridcolor\": \"white\", \"linecolor\": \"white\", \"ticks\": \"\", \"zerolinecolor\": \"white\", \"zerolinewidth\": 2}, \"yaxis\": {\"automargin\": true, \"gridcolor\": \"white\", \"linecolor\": \"white\", \"ticks\": \"\", \"zerolinecolor\": \"white\", \"zerolinewidth\": 2}}}},\n",
       "                        {\"responsive\": true}\n",
       "                    ).then(function(){\n",
       "                            \n",
       "var gd = document.getElementById('0ba13445-15ee-47f6-ad8c-c807846d0c65');\n",
       "var x = new MutationObserver(function (mutations, observer) {{\n",
       "        var display = window.getComputedStyle(gd).display;\n",
       "        if (!display || display === 'none') {{\n",
       "            console.log([gd, 'removed!']);\n",
       "            Plotly.purge(gd);\n",
       "            observer.disconnect();\n",
       "        }}\n",
       "}});\n",
       "\n",
       "// Listen for the removal of the full notebook cells\n",
       "var notebookContainer = gd.closest('#notebook-container');\n",
       "if (notebookContainer) {{\n",
       "    x.observe(notebookContainer, {childList: true});\n",
       "}}\n",
       "\n",
       "// Listen for the clearing of the current output cell\n",
       "var outputEl = gd.closest('.output');\n",
       "if (outputEl) {{\n",
       "    x.observe(outputEl, {childList: true});\n",
       "}}\n",
       "\n",
       "                        })\n",
       "                };\n",
       "                \n",
       "            </script>\n",
       "        </div>\n",
       "</body>\n",
       "</html>"
      ]
     },
     "metadata": {
      "tags": []
     },
     "output_type": "display_data"
    }
   ],
   "source": [
    "# Show locations on a map\n",
    "import plotly.express as px\n",
    "fig = px.scatter_geo(google_map_data, lat='lat', lon='lon',\n",
    "                     hover_name=\"formatted_address\", size=\"occurs\",\n",
    "                     color='location_type',\n",
    "                     projection=\"natural earth\")\n",
    "fig.show()"
   ]
  },
  {
   "cell_type": "markdown",
   "metadata": {
    "colab_type": "text",
    "id": "f7QR3utBjOn1"
   },
   "source": [
    "## Comparison\n",
    "\n",
    "Good news - there's no more code! Bad news - now we have to contextualise!\n",
    "\n",
    "In pairs or small groups, discuss what you've just done. Here are some conversation starters to get you going.\n",
    "\n",
    "At a general level:\n",
    "  * How might these results be used in the analysis of literary texts?\n",
    "  * How might this pipeline be fruitfully employed on other texts? Are some texts more interesting than others? Why?\n",
    "  * In what ways might text metadata be used in this pipeline? What would that show?\n",
    "\n",
    "On a more technical level:\n",
    "* What design decisions are most important in determining the output? \n",
    "* How important are the errors in the entity extraction? How might we minimise them?\n",
    "* Note the depth of additional geo data from both services. How might this affect future analysis built upon these outputs?"
   ]
  },
  {
   "cell_type": "markdown",
   "metadata": {
    "colab_type": "text",
    "id": "1a7xpp7TVhWe"
   },
   "source": [
    "# Links to packages and further reading\n",
    "\n",
    "### NLP/NER Frameworks\n",
    "* spaCy - https://spacy.io\n",
    "* Stanford CoreNLP (Java) - https://stanfordnlp.github.io/CoreNLP/\n",
    "* Polyglot - https://polyglot.readthedocs.io/en/latest/\n",
    "* NLTK - https://www.nltk.org/\n",
    "\n",
    "### Geocoding frameworks\n",
    "* Google Places - https://developers.google.com/places/web-service/intro\n",
    "* MapQuest - https://developer.mapquest.com/\n",
    "* OpenCage - https://opencagedata.com/\n",
    "\n",
    "### Other packages used in this notebook (not including those from Python standard library):\n",
    "* pandas - https://pandas.pydata.org/pandas-docs/stable/\n",
    "* googlemaps - https://github.com/googlemaps/google-maps-services-python\n",
    "* plotly - https://plot.ly/python/\n",
    "* geocoder - https://geocoder.readthedocs.io/\n",
    "\n",
    "### Other mapping libraries not used here:\n",
    "* cartopy - https://github.com/SciTools/cartopy\n",
    "* folium - https://python-visualization.github.io/folium/\n",
    "\n",
    "### NaN, NaN\n",
    "* Null Island - https://blogs.loc.gov/maps/2016/04/the-geographical-oddity-of-null-island/"
   ]
  },
  {
   "cell_type": "markdown",
   "metadata": {
    "colab_type": "text",
    "id": "-o8UG5fIt4TU"
   },
   "source": [
    "# Goodbye!"
   ]
  }
 ],
 "metadata": {
  "accelerator": "TPU",
  "colab": {
   "collapsed_sections": [],
   "name": "AU_IMC_NLP_Workshop.ipynb",
   "provenance": []
  },
  "kernelspec": {
   "display_name": "Python 3",
   "language": "python",
   "name": "python3"
  },
  "language_info": {
   "codemirror_mode": {
    "name": "ipython",
    "version": 3
   },
   "file_extension": ".py",
   "mimetype": "text/x-python",
   "name": "python",
   "nbconvert_exporter": "python",
   "pygments_lexer": "ipython3",
   "version": "3.7.5"
  }
 },
 "nbformat": 4,
 "nbformat_minor": 1
}
