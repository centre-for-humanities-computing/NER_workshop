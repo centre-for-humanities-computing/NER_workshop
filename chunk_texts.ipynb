{
 "cells": [
  {
   "cell_type": "code",
   "execution_count": 12,
   "metadata": {},
   "outputs": [],
   "source": [
    "from glob import glob\n",
    "import os\n",
    "\n",
    "output = 'texts_short'\n",
    "amount = 0.10 # How much of the book to take\n",
    "offset = 0.20 # Where to start the chunk\n",
    "how = 'percent'\n",
    "\n",
    "os.makedirs(output, exist_ok=True)\n",
    "\n",
    "file_paths = glob(os.path.join('texts_full', '*.txt'))\n",
    "file_names = [os.path.split(i)[1] for i in file_paths]\n",
    "\n",
    "# Read and tokenize each file in full.\n",
    "# Then extract a chunk of indicated size, breaking on paragraphs\n",
    "for i, file in enumerate(file_paths):\n",
    "    with open(file, 'r') as f:\n",
    "        book = []\n",
    "        for par in f:\n",
    "            book.append(par.split())\n",
    "        length = 0\n",
    "        for par in book:\n",
    "            length += len(par)\n",
    "        chunk = ''\n",
    "        chunk_words = 0\n",
    "        skipped_words = 0\n",
    "        if how == 'percent':\n",
    "            for par in book:\n",
    "                if skipped_words < int(length*offset):\n",
    "                    skipped_words += len(par)\n",
    "                elif chunk_words < int(length*amount):\n",
    "                    for word in par:\n",
    "                        chunk += word + ' '\n",
    "                    chunk += '\\n'\n",
    "                    chunk_words += len(par)\n",
    "                else:\n",
    "                    with open(os.path.join(output, file_names[i]), 'w') as o:\n",
    "                        o.write(chunk)"
   ]
  },
  {
   "cell_type": "code",
   "execution_count": null,
   "metadata": {},
   "outputs": [],
   "source": []
  }
 ],
 "metadata": {
  "kernelspec": {
   "display_name": "Python 3",
   "language": "python",
   "name": "python3"
  },
  "language_info": {
   "codemirror_mode": {
    "name": "ipython",
    "version": 3
   },
   "file_extension": ".py",
   "mimetype": "text/x-python",
   "name": "python",
   "nbconvert_exporter": "python",
   "pygments_lexer": "ipython3",
   "version": "3.7.4"
  }
 },
 "nbformat": 4,
 "nbformat_minor": 2
}
